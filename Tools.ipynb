{
 "cells": [
  {
   "cell_type": "markdown",
   "metadata": {},
   "source": [
    "<p>\n",
    "CAS on Advanced Machine Learning <br>\n",
    "Data Science Lab, University of Bern, 2024<br>\n",
    "Prepared by Dr. Mykhailo Vladymyrov.\n",
    "\n",
    "</p>\n",
    "\n",
    "This work is licensed under a <a href=\"https://creativecommons.org/licenses/by-sa/4.0/\">Creative Commons Attribution-ShareAlike 4.0 International License</a>."
   ]
  },
  {
   "cell_type": "markdown",
   "metadata": {},
   "source": [
    "# Installations"
   ]
  },
  {
   "cell_type": "code",
   "execution_count": null,
   "metadata": {},
   "outputs": [],
   "source": [
    "# on colab:\n",
    "# !pip install mlflow\n",
    "# !pip install optuna"
   ]
  },
  {
   "cell_type": "markdown",
   "metadata": {},
   "source": [
    "# Imports"
   ]
  },
  {
   "cell_type": "code",
   "execution_count": 1,
   "metadata": {},
   "outputs": [],
   "source": [
    "import numpy as np\n",
    "import matplotlib.pyplot as plt\n",
    "import pandas as pd\n",
    "import einops as eo\n",
    "import pathlib as pl\n",
    "\n",
    "import matplotlib.cm as cm\n",
    "from matplotlib import collections  as mc\n",
    "from matplotlib import animation\n",
    "%matplotlib inline\n",
    "\n",
    "from scipy.stats import norm\n",
    "from scipy.stats import entropy\n",
    "\n",
    "import pandas as pd\n",
    "import pickle\n",
    "from PIL import Image\n",
    "from time import time as timer\n",
    "#import umap\n",
    "\n",
    "from IPython.display import HTML\n",
    "from IPython.display import Audio\n",
    "import IPython\n",
    "\n",
    "import tqdm.auto as tqdm\n",
    "\n",
    "import torch\n",
    "from torchvision import datasets, transforms\n",
    "from torch import nn\n",
    "from torch import optim\n",
    "import torch.nn.functional as F\n",
    "\n",
    "import sys\n",
    "is_colab = 'google.colab' in sys.modules\n",
    "\n",
    "import mlflow \n",
    "import optuna"
   ]
  },
  {
   "cell_type": "markdown",
   "metadata": {},
   "source": [
    "# Setup"
   ]
  },
  {
   "cell_type": "code",
   "execution_count": 2,
   "metadata": {},
   "outputs": [],
   "source": [
    "if is_colab:\n",
    "    # mount google drive\n",
    "    from google.colab import drive\n",
    "    drive.mount('/content/drive')\n",
    "\n",
    "    root_path = '/content/drive/My Drive/Colab Notebooks/CAS_AML_M3'\n",
    "    root_path = pl.Path(root_path)\n",
    "    root_path.mkdir(exist_ok=True, parents=True)\n",
    "else:\n",
    "    root_path = pl.Path.cwd()\n"
   ]
  },
  {
   "cell_type": "code",
   "execution_count": 3,
   "metadata": {},
   "outputs": [],
   "source": [
    "BATCH_SIZE = 128\n",
    "LAYERS = []"
   ]
  },
  {
   "cell_type": "code",
   "execution_count": 4,
   "metadata": {},
   "outputs": [
    {
     "name": "stdout",
     "output_type": "stream",
     "text": [
      "Train dataset shape: 60000 total images and labels\n",
      "Test dataset shape: 10000 total images and labels\n"
     ]
    }
   ],
   "source": [
    "# create simple torch model for digit classsification\n",
    "\n",
    "m, s = 0.5, 0.5\n",
    "\n",
    "# Define a transform to normalize the data\n",
    "transform = transforms.Compose([transforms.ToTensor(),\n",
    "                                transforms.Normalize((m,), (s,)),\n",
    "                                transforms.Lambda(lambda x: torch.flatten(x))])\n",
    "\n",
    "# Download and load the training data\n",
    "trainset = datasets.FashionMNIST('~/.pytorch/FMNIST_data/', download=True, train=True, transform=transform)\n",
    "train_loader = torch.utils.data.DataLoader(trainset, batch_size=64, shuffle=True, drop_last=True)\n",
    "\n",
    "# Download and load the test data\n",
    "validset = datasets.FashionMNIST('~/.pytorch/FMNIST_data/', download=True, train=False, transform=transform)\n",
    "valid_loader = torch.utils.data.DataLoader(validset, batch_size=64, shuffle=False, drop_last=True)\n",
    "\n",
    "# Print shapes of the datasets\n",
    "print('Train dataset shape:', len(trainset), 'total images and labels')\n",
    "print('Test dataset shape:', len(validset), 'total images and labels')"
   ]
  },
  {
   "cell_type": "code",
   "execution_count": 5,
   "metadata": {},
   "outputs": [],
   "source": [
    "# FCN\n",
    "class MyModel(nn.Module):\n",
    "    def __init__(self, n_input, n_hiddens, n_output):\n",
    "        super(MyModel, self).__init__()\n",
    "\n",
    "        self.ls = []\n",
    "        n_prev = n_input\n",
    "        for i, n_out in enumerate(n_hiddens):\n",
    "          l = nn.Linear(n_prev, n_out)  # for hidden layer we create a linear projection form n_prev features to n_out features\n",
    "          n_prev = n_out\n",
    "          self.add_module(f'lin_{i}_{n_out}', l)\n",
    "          self.ls.append(l)\n",
    "\n",
    "        self.lout = nn.Linear(n_prev, n_output)  # also we need the output layer\n",
    "\n",
    "    def forward(self, x):\n",
    "        h = x\n",
    "        for li in self.ls:  # for each layer we apply the linear projection and the activation fuinction (ReLU)\n",
    "          h = li(h)\n",
    "          h = torch.relu(h)\n",
    "\n",
    "        logits = self.lout(h)\n",
    "        # Apply softmax activation per row, to get the class pseudoprobabilities\n",
    "        probs = F.softmax(logits, dim=1)\n",
    "\n",
    "        # Prediction: argmax for classification\n",
    "        pred = torch.argmax(probs, dim=1)  # find the element with highest value in each row\n",
    "\n",
    "        return logits, probs, pred\n"
   ]
  },
  {
   "cell_type": "code",
   "execution_count": 6,
   "metadata": {},
   "outputs": [],
   "source": [
    "n_hidden = []\n",
    "model = MyModel(n_input=784, n_hiddens=n_hidden, n_output=10)  # 784 input features for 28x28 images, 10 output classes"
   ]
  },
  {
   "cell_type": "code",
   "execution_count": 7,
   "metadata": {},
   "outputs": [],
   "source": [
    "def get_npars(model):\n",
    "    \"\"\"\n",
    "    Returns the total number of parameters in the given PyTorch model.\n",
    "    For each parmaeter in the model, the function multiplies the elements of the shape\n",
    "    of the parameter tensor to get the total number of parameters.\n",
    "    \n",
    "    Args:\n",
    "        model (torch.nn.Module): The PyTorch model to get the number of parameters for.\n",
    "    \n",
    "    Returns:\n",
    "        int: The total number of parameters in the model.\n",
    "    \"\"\"\n",
    "    n = np.sum([np.prod(list(p.shape)) for p in model.parameters()])\n",
    "    return int(n)"
   ]
  },
  {
   "cell_type": "code",
   "execution_count": 8,
   "metadata": {},
   "outputs": [
    {
     "data": {
      "text/plain": [
       "7850"
      ]
     },
     "execution_count": 8,
     "metadata": {},
     "output_type": "execute_result"
    }
   ],
   "source": [
    "get_npars(model)"
   ]
  },
  {
   "cell_type": "code",
   "execution_count": 9,
   "metadata": {},
   "outputs": [],
   "source": [
    "def train(model, trainloader, criterion, optimizer):\n",
    "    model.train()\n",
    "    running_loss = 0.0\n",
    "    n_correct = 0\n",
    "    for images, labels in trainloader:\n",
    "        optimizer.zero_grad()  # reset gradients\n",
    "        output, prob, pred = model(images)\n",
    "        loss = criterion(output, labels)\n",
    "        loss.backward()    # compute gradients\n",
    "        optimizer.step()   # update parameters with gradients\n",
    "        running_loss += loss.item()\n",
    "        correct = torch.sum(pred == labels)\n",
    "        n_correct += correct\n",
    "    return running_loss / len(trainloader), n_correct/len(trainloader)/trainloader.batch_size"
   ]
  },
  {
   "cell_type": "code",
   "execution_count": 10,
   "metadata": {},
   "outputs": [],
   "source": [
    "def test(model, testloader, criterion):\n",
    "    model.eval()\n",
    "    running_loss = 0.0\n",
    "    n_correct = 0\n",
    "    with torch.no_grad():\n",
    "        for images, labels in testloader:\n",
    "            output, prob, pred = model(images)\n",
    "            loss = criterion(output, labels)\n",
    "            running_loss += loss.item()\n",
    "            correct = torch.sum(pred == labels)\n",
    "            n_correct += correct\n",
    "    return running_loss / len(testloader), n_correct/len(testloader)/testloader.batch_size"
   ]
  },
  {
   "cell_type": "markdown",
   "metadata": {},
   "source": [
    "## Training loop example:"
   ]
  },
  {
   "cell_type": "code",
   "execution_count": null,
   "metadata": {},
   "outputs": [],
   "source": [
    "num_epochs = 5\n",
    "\n",
    "# Loss function\n",
    "criterion = nn.CrossEntropyLoss()\n",
    "# Optimizer (e.g., Adam)\n",
    "optimizer = optim.Adam(model.parameters(), lr=0.001)\n",
    "\n",
    "for epoch in range(num_epochs):\n",
    "    train_loss, train_acc = train(model, train_loader, criterion, optimizer)\n",
    "    valid_loss, valid_acc = test(model, valid_loader, criterion)\n",
    "\n",
    "    print(f'Epoch {epoch+1}/{num_epochs}, Valid Loss: {train_loss:.4f}, Valid Loss: {valid_loss:.4f}, Train Acc: {train_acc:.4f}, Valid Acc: {valid_acc:.4f}')\n"
   ]
  },
  {
   "cell_type": "markdown",
   "metadata": {},
   "source": [
    "# MLFlow"
   ]
  },
  {
   "cell_type": "code",
   "execution_count": 12,
   "metadata": {},
   "outputs": [
    {
     "name": "stderr",
     "output_type": "stream",
     "text": [
      "2024/09/23 17:33:59 WARNING mlflow.utils.autologging_utils: You are using an unsupported version of pytorch. If you encounter errors during autologging, try upgrading / downgrading pytorch to a supported version, or try upgrading MLflow.\n"
     ]
    },
    {
     "name": "stdout",
     "output_type": "stream",
     "text": [
      "file:///d:\\docs\\DSL\\Teaching\\CAS_AML\\CAS_AML_M3\\mlflow\n",
      "Epoch 1/5, Valid Loss: 0.5475, Valid Loss: 0.4713, Train Acc: 0.8086, Valid Acc: 0.8311\n",
      "Epoch 2/5, Valid Loss: 0.4242, Valid Loss: 0.4257, Train Acc: 0.8482, Valid Acc: 0.8454\n",
      "Epoch 3/5, Valid Loss: 0.3883, Valid Loss: 0.4156, Train Acc: 0.8603, Valid Acc: 0.8464\n",
      "Epoch 4/5, Valid Loss: 0.3683, Valid Loss: 0.4020, Train Acc: 0.8677, Valid Acc: 0.8547\n",
      "Epoch 5/5, Valid Loss: 0.3511, Valid Loss: 0.4004, Train Acc: 0.8722, Valid Acc: 0.8550\n"
     ]
    }
   ],
   "source": [
    "num_epochs = 7\n",
    "\n",
    "mlflow_log_path = root_path / 'mlflow'\n",
    "mlflow_log_path.mkdir(exist_ok=True, parents=True)\n",
    "mlflow_log_path =  str(mlflow_log_path)  # path to mlflow folder where mlflow will log the experiments\n",
    "# autolog with mlflow\n",
    "mlflow_log_path = r'file:///' + mlflow_log_path  # note the tripple slashes\n",
    "print(mlflow_log_path)\n",
    "\n",
    "\n",
    "mlflow.set_tracking_uri(mlflow_log_path)  # tell mlflow where to log the experiments\n",
    "mlflow.pytorch.autolog()  # autolog with mlflow - log all the parameters, metrics, etc.\n",
    "\n",
    "exp_name = 'FMNIST_CNN'  # name of the experiment\n",
    "run_name = '1_layer'     # name of the run - multiple runs can be logged under the same experiment. Be sure to use different, clear, yet short names for different runs.\n",
    "\n",
    "\n",
    "# create model - 1 layer, cross-entropy loss, Adam optimizer\n",
    "n_hidden = []\n",
    "model = MyModel(n_input=784, n_hiddens=n_hidden, n_output=10)  # 784 input features for 28x28 images, 10 output classes\n",
    "# Loss function\n",
    "criterion = nn.CrossEntropyLoss()\n",
    "# Optimizer (e.g., Adam)\n",
    "optimizer = optim.Adam(model.parameters(), lr=0.001)\n",
    "\n",
    "nested = True\n",
    "mlflow.set_experiment(exp_name)\n",
    "with mlflow.start_run(run_name=run_name, nested=nested):\n",
    "    mlflow.log_param('num_params', get_npars(model))  # you can log any parameters\n",
    "\n",
    "    for epoch in range(num_epochs):\n",
    "        train_loss, train_acc = train(model, train_loader, criterion, optimizer)\n",
    "        valid_loss, valid_acc = test(model, valid_loader, criterion)\n",
    "\n",
    "        print(f'Epoch {epoch+1}/{num_epochs}, Valid Loss: {train_loss:.4f}, Valid Loss: {valid_loss:.4f}, Train Acc: {train_acc:.4f}, Valid Acc: {valid_acc:.4f}')\n",
    "\n",
    "        # Log metrics to MLflow at each iteration\n",
    "        mlflow.log_metric('train_loss', train_loss, step=epoch)\n",
    "        mlflow.log_metric('valid_loss', valid_loss, step=epoch)\n",
    "        mlflow.log_metric('train_acc', train_acc, step=epoch)\n",
    "        mlflow.log_metric('valid_acc', valid_acc, step=epoch)\n",
    "        \n",
    "    mlflow.pytorch.log_model(model, 'model_trained')  # you can save the model as a model artifact"
   ]
  },
  {
   "cell_type": "code",
   "execution_count": 14,
   "metadata": {},
   "outputs": [
    {
     "name": "stdout",
     "output_type": "stream",
     "text": [
      "mlflow server --host 127.0.0.1 --port 8080 --backend-store-uri file:///d:\\docs\\DSL\\Teaching\\CAS_AML\\CAS_AML_M3\\mlflow\n"
     ]
    }
   ],
   "source": [
    "# if run locally, use the following command from the terminal (copy & paste output to terminal)\n",
    "print(f'mlflow server --host 127.0.0.1 --port 8080 --backend-store-uri {mlflow_log_path}')"
   ]
  },
  {
   "cell_type": "markdown",
   "metadata": {},
   "source": [
    "On colab - copy the mlflow folder to local machine, and adjust the path to the mlflow folder.\n"
   ]
  },
  {
   "cell_type": "markdown",
   "metadata": {},
   "source": [
    "## Exercise 1"
   ]
  },
  {
   "cell_type": "markdown",
   "metadata": {},
   "source": [
    "1. Run same with 2 layer NN (e.g. set n_hidden = [32] and a distinct run name)\n",
    "2. Copy the mlflow directory locally (or mount google drive)\n",
    "3. Then:\n",
    "    * explre the effect of n_hidden on the training time\n",
    "    * explore the effect of n_hidden on performance\n",
    "    * explore the effect of number of parameters vs performance\n",
    "    * ... explore :)"
   ]
  },
  {
   "cell_type": "markdown",
   "metadata": {},
   "source": [
    "# Optuna"
   ]
  },
  {
   "cell_type": "code",
   "execution_count": 23,
   "metadata": {},
   "outputs": [],
   "source": [
    "def train_model_wrapper(num_epochs, run_name, n_hidden, lr, trial=None):\n",
    "    mlflow_log_path = root_path / 'mlflow'\n",
    "    mlflow_log_path.mkdir(exist_ok=True, parents=True)\n",
    "    mlflow_log_path =  str(mlflow_log_path)  # path to mlflow folder where mlflow will log the experiments\n",
    "    # autolog with mlflow\n",
    "    mlflow_log_path = r'file:///' + mlflow_log_path  # note the tripple slashes\n",
    "    print(mlflow_log_path)\n",
    "\n",
    "\n",
    "    mlflow.set_tracking_uri(mlflow_log_path)  # tell mlflow where to log the experiments\n",
    "    mlflow.pytorch.autolog()  # autolog with mlflow - log all the parameters, metrics, etc.\n",
    "\n",
    "    exp_name = 'FMNIST_CNN'  # name of the experiment\n",
    "    \n",
    "    # create model - 1 layer, cross-entropy loss, Adam optimizer\n",
    "    n_hidden = []\n",
    "    model = MyModel(n_input=784, n_hiddens=n_hidden, n_output=10)  # 784 input features for 28x28 images, 10 output classes\n",
    "    # Loss function\n",
    "    criterion = nn.CrossEntropyLoss()\n",
    "    # Optimizer (e.g., Adam)\n",
    "    optimizer = optim.Adam(model.parameters(), lr=lr)\n",
    "\n",
    "    nested = True\n",
    "    mlflow.set_experiment(exp_name)\n",
    "    valid_acc_list = []\n",
    "    with mlflow.start_run(run_name=run_name, nested=nested):\n",
    "        mlflow.log_param('num_params', get_npars(model))  # you can log any parameters\n",
    "        mlflow.log_param('num_hidden', len(n_hidden))\n",
    "        mlflow.log_param('n_hidden', ','.join(n_hidden))\n",
    "\n",
    "        mlflow.log_param('lr', lr)\n",
    "        mlflow.log_param('num_epochs', num_epochs)\n",
    "\n",
    "\n",
    "        for epoch in range(num_epochs):\n",
    "            train_loss, train_acc = train(model, train_loader, criterion, optimizer)\n",
    "            valid_loss, valid_acc = test(model, valid_loader, criterion)\n",
    "\n",
    "            print(f'Epoch {epoch+1}/{num_epochs}, Valid Loss: {train_loss:.4f}, Valid Loss: {valid_loss:.4f}, Train Acc: {train_acc:.4f}, Valid Acc: {valid_acc:.4f}')\n",
    "\n",
    "            # Log metrics to MLflow at each iteration\n",
    "            mlflow.log_metric('train_loss', train_loss, step=epoch)\n",
    "            mlflow.log_metric('valid_loss', valid_loss, step=epoch)\n",
    "            mlflow.log_metric('train_acc', train_acc, step=epoch)\n",
    "            mlflow.log_metric('valid_acc', valid_acc, step=epoch)\n",
    "\n",
    "            valid_acc_list.append(valid_acc)\n",
    "\n",
    "            # if trial is not None:\n",
    "            #     trial.report(valid_acc, epoch)\n",
    "\n",
    "            # # Handle pruning based on the intermediate value.\n",
    "            # if trial.should_prune():\n",
    "            #     raise optuna.TrialPruned()\n",
    "            \n",
    "        \n",
    "        mlflow.pytorch.log_model(model, 'model_trained')  # you can save the model as a model artifact\n",
    "    return np.max(valid_acc_list)  # best validation accuracy"
   ]
  },
  {
   "cell_type": "code",
   "execution_count": 24,
   "metadata": {},
   "outputs": [],
   "source": [
    "# use optuna to find the best parameters for the model - i.e. elements of the array n_hidden\n",
    "\n",
    "def objective(trial):\n",
    "    n_ep = 9\n",
    "    n_hidden_layers = trial.suggest_int(\"n_hidden\", 0, 3)\n",
    "    n_hidden = []\n",
    "    for i in range(n_hidden_layers):\n",
    "        # select between 16 and 2048 in log scale\n",
    "        n_neurons_log = trial.suggest_int(f\"n_hidden_{i}\", 4, 10)\n",
    "        n_neurons = 2 ** n_neurons_log\n",
    "        n_hidden.append(n_neurons)\n",
    "\n",
    "    #lr = trial.suggest_float(\"lr\", 3e-5, 3e-3, log=True)\n",
    "    lr = 1e-3\n",
    "\n",
    "    rname=f\"optuna2_{n_hidden_layers}_{n_hidden}_{lr}\"\n",
    "    acc = train_model_wrapper(num_epochs=n_ep, n_hidden=n_hidden, lr=lr, run_name=rname, trial=trial)\n",
    "\n",
    "    return acc\n",
    "\n"
   ]
  },
  {
   "cell_type": "code",
   "execution_count": 25,
   "metadata": {},
   "outputs": [
    {
     "name": "stderr",
     "output_type": "stream",
     "text": [
      "[I 2024-09-24 10:19:02,923] A new study created in RDB with name: architecture_opt\n"
     ]
    },
    {
     "data": {
      "application/vnd.jupyter.widget-view+json": {
       "model_id": "3863ee8170314e5d80a50444f7b41f24",
       "version_major": 2,
       "version_minor": 0
      },
      "text/plain": [
       "  0%|          | 0/120 [00:00<?, ?it/s]"
      ]
     },
     "metadata": {},
     "output_type": "display_data"
    },
    {
     "name": "stderr",
     "output_type": "stream",
     "text": [
      "2024/09/24 10:19:02 WARNING mlflow.utils.autologging_utils: You are using an unsupported version of pytorch. If you encounter errors during autologging, try upgrading / downgrading pytorch to a supported version, or try upgrading MLflow.\n"
     ]
    },
    {
     "name": "stdout",
     "output_type": "stream",
     "text": [
      "file:///d:\\docs\\DSL\\Teaching\\CAS_AML\\CAS_AML_M3\\mlflow\n",
      "Epoch 1/9, Valid Loss: 0.5572, Valid Loss: 0.4914, Train Acc: 0.8073, Valid Acc: 0.8291\n",
      "Epoch 2/9, Valid Loss: 0.4528, Valid Loss: 0.4791, Train Acc: 0.8429, Valid Acc: 0.8315\n",
      "Epoch 3/9, Valid Loss: 0.4359, Valid Loss: 0.4716, Train Acc: 0.8483, Valid Acc: 0.8311\n",
      "Epoch 4/9, Valid Loss: 0.4243, Valid Loss: 0.4702, Train Acc: 0.8527, Valid Acc: 0.8308\n",
      "Epoch 5/9, Valid Loss: 0.4183, Valid Loss: 0.4658, Train Acc: 0.8545, Valid Acc: 0.8351\n",
      "Epoch 6/9, Valid Loss: 0.4119, Valid Loss: 0.4671, Train Acc: 0.8560, Valid Acc: 0.8358\n",
      "Epoch 7/9, Valid Loss: 0.4083, Valid Loss: 0.4643, Train Acc: 0.8584, Valid Acc: 0.8372\n",
      "Epoch 8/9, Valid Loss: 0.4059, Valid Loss: 0.4517, Train Acc: 0.8571, Valid Acc: 0.8384\n",
      "Epoch 9/9, Valid Loss: 0.4034, Valid Loss: 0.4661, Train Acc: 0.8584, Valid Acc: 0.8338\n"
     ]
    },
    {
     "name": "stderr",
     "output_type": "stream",
     "text": [
      "2024/09/24 10:23:35 WARNING mlflow.utils.autologging_utils: You are using an unsupported version of pytorch. If you encounter errors during autologging, try upgrading / downgrading pytorch to a supported version, or try upgrading MLflow.\n"
     ]
    },
    {
     "name": "stdout",
     "output_type": "stream",
     "text": [
      "[I 2024-09-24 10:23:35,644] Trial 0 finished with value: 0.8384414911270142 and parameters: {'n_hidden': 3, 'n_hidden_0': 8, 'n_hidden_1': 5, 'n_hidden_2': 9}. Best is trial 0 with value: 0.8384414911270142.\n",
      "file:///d:\\docs\\DSL\\Teaching\\CAS_AML\\CAS_AML_M3\\mlflow\n",
      "Epoch 1/9, Valid Loss: 0.5610, Valid Loss: 0.5104, Train Acc: 0.8063, Valid Acc: 0.8186\n",
      "Epoch 2/9, Valid Loss: 0.4537, Valid Loss: 0.4728, Train Acc: 0.8421, Valid Acc: 0.8315\n",
      "Epoch 3/9, Valid Loss: 0.4349, Valid Loss: 0.4823, Train Acc: 0.8474, Valid Acc: 0.8291\n",
      "Epoch 4/9, Valid Loss: 0.4253, Valid Loss: 0.4749, Train Acc: 0.8519, Valid Acc: 0.8293\n",
      "Epoch 5/9, Valid Loss: 0.4180, Valid Loss: 0.4558, Train Acc: 0.8541, Valid Acc: 0.8400\n",
      "Epoch 6/9, Valid Loss: 0.4127, Valid Loss: 0.4593, Train Acc: 0.8557, Valid Acc: 0.8361\n",
      "Epoch 7/9, Valid Loss: 0.4080, Valid Loss: 0.4595, Train Acc: 0.8568, Valid Acc: 0.8337\n",
      "Epoch 8/9, Valid Loss: 0.4052, Valid Loss: 0.4556, Train Acc: 0.8576, Valid Acc: 0.8383\n",
      "Epoch 9/9, Valid Loss: 0.4027, Valid Loss: 0.4556, Train Acc: 0.8593, Valid Acc: 0.8346\n"
     ]
    },
    {
     "name": "stderr",
     "output_type": "stream",
     "text": [
      "2024/09/24 10:28:15 WARNING mlflow.utils.autologging_utils: You are using an unsupported version of pytorch. If you encounter errors during autologging, try upgrading / downgrading pytorch to a supported version, or try upgrading MLflow.\n"
     ]
    },
    {
     "name": "stdout",
     "output_type": "stream",
     "text": [
      "[I 2024-09-24 10:28:15,246] Trial 1 finished with value: 0.8400440812110901 and parameters: {'n_hidden': 1, 'n_hidden_0': 8}. Best is trial 1 with value: 0.8400440812110901.\n",
      "file:///d:\\docs\\DSL\\Teaching\\CAS_AML\\CAS_AML_M3\\mlflow\n",
      "Epoch 1/9, Valid Loss: 0.5573, Valid Loss: 0.4888, Train Acc: 0.8070, Valid Acc: 0.8267\n",
      "Epoch 2/9, Valid Loss: 0.4544, Valid Loss: 0.4743, Train Acc: 0.8419, Valid Acc: 0.8331\n",
      "Epoch 3/9, Valid Loss: 0.4333, Valid Loss: 0.4733, Train Acc: 0.8496, Valid Acc: 0.8358\n",
      "Epoch 4/9, Valid Loss: 0.4249, Valid Loss: 0.4661, Train Acc: 0.8517, Valid Acc: 0.8361\n",
      "Epoch 5/9, Valid Loss: 0.4179, Valid Loss: 0.4486, Train Acc: 0.8541, Valid Acc: 0.8417\n",
      "Epoch 6/9, Valid Loss: 0.4135, Valid Loss: 0.4513, Train Acc: 0.8558, Valid Acc: 0.8409\n",
      "Epoch 7/9, Valid Loss: 0.4086, Valid Loss: 0.4569, Train Acc: 0.8568, Valid Acc: 0.8392\n",
      "Epoch 8/9, Valid Loss: 0.4060, Valid Loss: 0.4506, Train Acc: 0.8581, Valid Acc: 0.8400\n",
      "Epoch 9/9, Valid Loss: 0.4018, Valid Loss: 0.4536, Train Acc: 0.8603, Valid Acc: 0.8404\n"
     ]
    },
    {
     "name": "stderr",
     "output_type": "stream",
     "text": [
      "2024/09/24 10:33:14 WARNING mlflow.utils.autologging_utils: You are using an unsupported version of pytorch. If you encounter errors during autologging, try upgrading / downgrading pytorch to a supported version, or try upgrading MLflow.\n"
     ]
    },
    {
     "name": "stdout",
     "output_type": "stream",
     "text": [
      "[I 2024-09-24 10:33:13,988] Trial 2 finished with value: 0.8417468070983887 and parameters: {'n_hidden': 2, 'n_hidden_0': 7, 'n_hidden_1': 5}. Best is trial 2 with value: 0.8417468070983887.\n",
      "file:///d:\\docs\\DSL\\Teaching\\CAS_AML\\CAS_AML_M3\\mlflow\n",
      "Epoch 1/9, Valid Loss: 0.5560, Valid Loss: 0.4940, Train Acc: 0.8074, Valid Acc: 0.8246\n",
      "Epoch 2/9, Valid Loss: 0.4544, Valid Loss: 0.4707, Train Acc: 0.8414, Valid Acc: 0.8347\n",
      "Epoch 3/9, Valid Loss: 0.4345, Valid Loss: 0.4716, Train Acc: 0.8480, Valid Acc: 0.8332\n",
      "Epoch 4/9, Valid Loss: 0.4238, Valid Loss: 0.4813, Train Acc: 0.8512, Valid Acc: 0.8347\n",
      "Epoch 5/9, Valid Loss: 0.4193, Valid Loss: 0.4626, Train Acc: 0.8538, Valid Acc: 0.8374\n",
      "Epoch 6/9, Valid Loss: 0.4127, Valid Loss: 0.4638, Train Acc: 0.8563, Valid Acc: 0.8397\n",
      "Epoch 7/9, Valid Loss: 0.4094, Valid Loss: 0.4556, Train Acc: 0.8578, Valid Acc: 0.8373\n",
      "Epoch 8/9, Valid Loss: 0.4049, Valid Loss: 0.4620, Train Acc: 0.8594, Valid Acc: 0.8381\n",
      "Epoch 9/9, Valid Loss: 0.4030, Valid Loss: 0.4564, Train Acc: 0.8601, Valid Acc: 0.8343\n"
     ]
    },
    {
     "name": "stderr",
     "output_type": "stream",
     "text": [
      "2024/09/24 10:37:43 WARNING mlflow.utils.autologging_utils: You are using an unsupported version of pytorch. If you encounter errors during autologging, try upgrading / downgrading pytorch to a supported version, or try upgrading MLflow.\n"
     ]
    },
    {
     "name": "stdout",
     "output_type": "stream",
     "text": [
      "[I 2024-09-24 10:37:43,554] Trial 3 finished with value: 0.8397436141967773 and parameters: {'n_hidden': 2, 'n_hidden_0': 5, 'n_hidden_1': 7}. Best is trial 2 with value: 0.8417468070983887.\n",
      "file:///d:\\docs\\DSL\\Teaching\\CAS_AML\\CAS_AML_M3\\mlflow\n",
      "Epoch 1/9, Valid Loss: 0.5588, Valid Loss: 0.4984, Train Acc: 0.8048, Valid Acc: 0.8247\n",
      "Epoch 2/9, Valid Loss: 0.4518, Valid Loss: 0.4685, Train Acc: 0.8426, Valid Acc: 0.8381\n",
      "Epoch 3/9, Valid Loss: 0.4356, Valid Loss: 0.4632, Train Acc: 0.8480, Valid Acc: 0.8367\n",
      "Epoch 4/9, Valid Loss: 0.4260, Valid Loss: 0.4525, Train Acc: 0.8497, Valid Acc: 0.8401\n",
      "Epoch 5/9, Valid Loss: 0.4172, Valid Loss: 0.4768, Train Acc: 0.8543, Valid Acc: 0.8295\n",
      "Epoch 6/9, Valid Loss: 0.4115, Valid Loss: 0.4587, Train Acc: 0.8556, Valid Acc: 0.8408\n",
      "Epoch 7/9, Valid Loss: 0.4087, Valid Loss: 0.4568, Train Acc: 0.8568, Valid Acc: 0.8383\n",
      "Epoch 8/9, Valid Loss: 0.4051, Valid Loss: 0.4528, Train Acc: 0.8575, Valid Acc: 0.8400\n",
      "Epoch 9/9, Valid Loss: 0.4042, Valid Loss: 0.4509, Train Acc: 0.8587, Valid Acc: 0.8392\n"
     ]
    },
    {
     "name": "stderr",
     "output_type": "stream",
     "text": [
      "2024/09/24 10:41:36 WARNING mlflow.utils.autologging_utils: You are using an unsupported version of pytorch. If you encounter errors during autologging, try upgrading / downgrading pytorch to a supported version, or try upgrading MLflow.\n"
     ]
    },
    {
     "name": "stdout",
     "output_type": "stream",
     "text": [
      "[I 2024-09-24 10:41:36,734] Trial 4 finished with value: 0.8408453464508057 and parameters: {'n_hidden': 0}. Best is trial 2 with value: 0.8417468070983887.\n",
      "file:///d:\\docs\\DSL\\Teaching\\CAS_AML\\CAS_AML_M3\\mlflow\n",
      "Epoch 1/9, Valid Loss: 0.5538, Valid Loss: 0.5073, Train Acc: 0.8084, Valid Acc: 0.8229\n",
      "Epoch 2/9, Valid Loss: 0.4539, Valid Loss: 0.4865, Train Acc: 0.8426, Valid Acc: 0.8241\n",
      "Epoch 3/9, Valid Loss: 0.4369, Valid Loss: 0.4633, Train Acc: 0.8472, Valid Acc: 0.8331\n",
      "Epoch 4/9, Valid Loss: 0.4267, Valid Loss: 0.4525, Train Acc: 0.8498, Valid Acc: 0.8393\n",
      "Epoch 5/9, Valid Loss: 0.4178, Valid Loss: 0.4531, Train Acc: 0.8540, Valid Acc: 0.8383\n",
      "Epoch 6/9, Valid Loss: 0.4120, Valid Loss: 0.4531, Train Acc: 0.8557, Valid Acc: 0.8419\n",
      "Epoch 7/9, Valid Loss: 0.4086, Valid Loss: 0.4583, Train Acc: 0.8570, Valid Acc: 0.8371\n",
      "Epoch 8/9, Valid Loss: 0.4061, Valid Loss: 0.4705, Train Acc: 0.8581, Valid Acc: 0.8308\n",
      "Epoch 9/9, Valid Loss: 0.4041, Valid Loss: 0.4538, Train Acc: 0.8597, Valid Acc: 0.8433\n"
     ]
    },
    {
     "name": "stderr",
     "output_type": "stream",
     "text": [
      "2024/09/24 10:45:48 WARNING mlflow.utils.autologging_utils: You are using an unsupported version of pytorch. If you encounter errors during autologging, try upgrading / downgrading pytorch to a supported version, or try upgrading MLflow.\n"
     ]
    },
    {
     "name": "stdout",
     "output_type": "stream",
     "text": [
      "[I 2024-09-24 10:45:48,315] Trial 5 finished with value: 0.8433493375778198 and parameters: {'n_hidden': 1, 'n_hidden_0': 10}. Best is trial 5 with value: 0.8433493375778198.\n",
      "file:///d:\\docs\\DSL\\Teaching\\CAS_AML\\CAS_AML_M3\\mlflow\n",
      "Epoch 1/9, Valid Loss: 0.5594, Valid Loss: 0.4855, Train Acc: 0.8063, Valid Acc: 0.8296\n",
      "Epoch 2/9, Valid Loss: 0.4538, Valid Loss: 0.4749, Train Acc: 0.8422, Valid Acc: 0.8303\n",
      "Epoch 3/9, Valid Loss: 0.4347, Valid Loss: 0.4788, Train Acc: 0.8483, Valid Acc: 0.8293\n",
      "Epoch 4/9, Valid Loss: 0.4259, Valid Loss: 0.4807, Train Acc: 0.8514, Valid Acc: 0.8274\n",
      "Epoch 5/9, Valid Loss: 0.4188, Valid Loss: 0.4534, Train Acc: 0.8527, Valid Acc: 0.8379\n",
      "Epoch 6/9, Valid Loss: 0.4134, Valid Loss: 0.4604, Train Acc: 0.8558, Valid Acc: 0.8350\n",
      "Epoch 7/9, Valid Loss: 0.4083, Valid Loss: 0.4589, Train Acc: 0.8573, Valid Acc: 0.8371\n",
      "Epoch 8/9, Valid Loss: 0.4048, Valid Loss: 0.4581, Train Acc: 0.8575, Valid Acc: 0.8404\n",
      "Epoch 9/9, Valid Loss: 0.4033, Valid Loss: 0.4567, Train Acc: 0.8587, Valid Acc: 0.8408\n"
     ]
    },
    {
     "name": "stderr",
     "output_type": "stream",
     "text": [
      "2024/09/24 10:49:55 WARNING mlflow.utils.autologging_utils: You are using an unsupported version of pytorch. If you encounter errors during autologging, try upgrading / downgrading pytorch to a supported version, or try upgrading MLflow.\n"
     ]
    },
    {
     "name": "stdout",
     "output_type": "stream",
     "text": [
      "[I 2024-09-24 10:49:55,172] Trial 6 finished with value: 0.8408453464508057 and parameters: {'n_hidden': 3, 'n_hidden_0': 6, 'n_hidden_1': 7, 'n_hidden_2': 10}. Best is trial 5 with value: 0.8433493375778198.\n",
      "file:///d:\\docs\\DSL\\Teaching\\CAS_AML\\CAS_AML_M3\\mlflow\n",
      "Epoch 1/9, Valid Loss: 0.5622, Valid Loss: 0.5049, Train Acc: 0.8055, Valid Acc: 0.8212\n",
      "Epoch 2/9, Valid Loss: 0.4568, Valid Loss: 0.4737, Train Acc: 0.8407, Valid Acc: 0.8321\n",
      "Epoch 3/9, Valid Loss: 0.4351, Valid Loss: 0.4701, Train Acc: 0.8481, Valid Acc: 0.8309\n",
      "Epoch 4/9, Valid Loss: 0.4258, Valid Loss: 0.4557, Train Acc: 0.8518, Valid Acc: 0.8377\n",
      "Epoch 5/9, Valid Loss: 0.4175, Valid Loss: 0.4804, Train Acc: 0.8544, Valid Acc: 0.8310\n",
      "Epoch 6/9, Valid Loss: 0.4123, Valid Loss: 0.4678, Train Acc: 0.8559, Valid Acc: 0.8290\n",
      "Epoch 7/9, Valid Loss: 0.4104, Valid Loss: 0.4506, Train Acc: 0.8551, Valid Acc: 0.8384\n",
      "Epoch 8/9, Valid Loss: 0.4057, Valid Loss: 0.4545, Train Acc: 0.8592, Valid Acc: 0.8420\n",
      "Epoch 9/9, Valid Loss: 0.4024, Valid Loss: 0.4498, Train Acc: 0.8589, Valid Acc: 0.8406\n"
     ]
    },
    {
     "name": "stderr",
     "output_type": "stream",
     "text": [
      "2024/09/24 10:54:05 WARNING mlflow.utils.autologging_utils: You are using an unsupported version of pytorch. If you encounter errors during autologging, try upgrading / downgrading pytorch to a supported version, or try upgrading MLflow.\n"
     ]
    },
    {
     "name": "stdout",
     "output_type": "stream",
     "text": [
      "[I 2024-09-24 10:54:05,517] Trial 7 finished with value: 0.8420472741127014 and parameters: {'n_hidden': 3, 'n_hidden_0': 7, 'n_hidden_1': 6, 'n_hidden_2': 9}. Best is trial 5 with value: 0.8433493375778198.\n",
      "file:///d:\\docs\\DSL\\Teaching\\CAS_AML\\CAS_AML_M3\\mlflow\n",
      "Epoch 1/9, Valid Loss: 0.5563, Valid Loss: 0.5098, Train Acc: 0.8080, Valid Acc: 0.8218\n",
      "Epoch 2/9, Valid Loss: 0.4549, Valid Loss: 0.4697, Train Acc: 0.8409, Valid Acc: 0.8349\n",
      "Epoch 3/9, Valid Loss: 0.4352, Valid Loss: 0.4616, Train Acc: 0.8478, Valid Acc: 0.8361\n",
      "Epoch 4/9, Valid Loss: 0.4241, Valid Loss: 0.4722, Train Acc: 0.8522, Valid Acc: 0.8317\n",
      "Epoch 5/9, Valid Loss: 0.4176, Valid Loss: 0.4659, Train Acc: 0.8530, Valid Acc: 0.8351\n",
      "Epoch 6/9, Valid Loss: 0.4126, Valid Loss: 0.4491, Train Acc: 0.8559, Valid Acc: 0.8406\n",
      "Epoch 7/9, Valid Loss: 0.4082, Valid Loss: 0.4597, Train Acc: 0.8578, Valid Acc: 0.8340\n",
      "Epoch 8/9, Valid Loss: 0.4066, Valid Loss: 0.4638, Train Acc: 0.8572, Valid Acc: 0.8357\n",
      "Epoch 9/9, Valid Loss: 0.4048, Valid Loss: 0.4486, Train Acc: 0.8576, Valid Acc: 0.8408\n"
     ]
    },
    {
     "name": "stderr",
     "output_type": "stream",
     "text": [
      "2024/09/24 10:58:02 WARNING mlflow.utils.autologging_utils: You are using an unsupported version of pytorch. If you encounter errors during autologging, try upgrading / downgrading pytorch to a supported version, or try upgrading MLflow.\n"
     ]
    },
    {
     "name": "stdout",
     "output_type": "stream",
     "text": [
      "[I 2024-09-24 10:58:02,025] Trial 8 finished with value: 0.8408453464508057 and parameters: {'n_hidden': 1, 'n_hidden_0': 4}. Best is trial 5 with value: 0.8433493375778198.\n",
      "file:///d:\\docs\\DSL\\Teaching\\CAS_AML\\CAS_AML_M3\\mlflow\n",
      "Epoch 1/9, Valid Loss: 0.5558, Valid Loss: 0.4959, Train Acc: 0.8083, Valid Acc: 0.8268\n",
      "Epoch 2/9, Valid Loss: 0.4538, Valid Loss: 0.4801, Train Acc: 0.8417, Valid Acc: 0.8282\n",
      "Epoch 3/9, Valid Loss: 0.4348, Valid Loss: 0.4784, Train Acc: 0.8480, Valid Acc: 0.8298\n",
      "Epoch 4/9, Valid Loss: 0.4246, Valid Loss: 0.4655, Train Acc: 0.8512, Valid Acc: 0.8360\n",
      "Epoch 5/9, Valid Loss: 0.4158, Valid Loss: 0.4573, Train Acc: 0.8548, Valid Acc: 0.8367\n",
      "Epoch 6/9, Valid Loss: 0.4134, Valid Loss: 0.4819, Train Acc: 0.8553, Valid Acc: 0.8263\n",
      "Epoch 7/9, Valid Loss: 0.4071, Valid Loss: 0.4660, Train Acc: 0.8572, Valid Acc: 0.8382\n",
      "Epoch 8/9, Valid Loss: 0.4050, Valid Loss: 0.4481, Train Acc: 0.8590, Valid Acc: 0.8397\n",
      "Epoch 9/9, Valid Loss: 0.4034, Valid Loss: 0.4555, Train Acc: 0.8580, Valid Acc: 0.8386\n"
     ]
    },
    {
     "name": "stderr",
     "output_type": "stream",
     "text": [
      "2024/09/24 11:02:25 WARNING mlflow.utils.autologging_utils: You are using an unsupported version of pytorch. If you encounter errors during autologging, try upgrading / downgrading pytorch to a supported version, or try upgrading MLflow.\n"
     ]
    },
    {
     "name": "stdout",
     "output_type": "stream",
     "text": [
      "[I 2024-09-24 11:02:25,844] Trial 9 finished with value: 0.8397436141967773 and parameters: {'n_hidden': 3, 'n_hidden_0': 6, 'n_hidden_1': 10, 'n_hidden_2': 8}. Best is trial 5 with value: 0.8433493375778198.\n",
      "file:///d:\\docs\\DSL\\Teaching\\CAS_AML\\CAS_AML_M3\\mlflow\n",
      "Epoch 1/9, Valid Loss: 0.5608, Valid Loss: 0.4966, Train Acc: 0.8051, Valid Acc: 0.8222\n",
      "Epoch 2/9, Valid Loss: 0.4520, Valid Loss: 0.4719, Train Acc: 0.8431, Valid Acc: 0.8329\n",
      "Epoch 3/9, Valid Loss: 0.4359, Valid Loss: 0.4793, Train Acc: 0.8486, Valid Acc: 0.8300\n",
      "Epoch 4/9, Valid Loss: 0.4245, Valid Loss: 0.4631, Train Acc: 0.8527, Valid Acc: 0.8351\n",
      "Epoch 5/9, Valid Loss: 0.4184, Valid Loss: 0.4610, Train Acc: 0.8542, Valid Acc: 0.8368\n",
      "Epoch 6/9, Valid Loss: 0.4112, Valid Loss: 0.4572, Train Acc: 0.8556, Valid Acc: 0.8380\n",
      "Epoch 7/9, Valid Loss: 0.4077, Valid Loss: 0.4594, Train Acc: 0.8573, Valid Acc: 0.8354\n",
      "Epoch 8/9, Valid Loss: 0.4048, Valid Loss: 0.4515, Train Acc: 0.8588, Valid Acc: 0.8454\n",
      "Epoch 9/9, Valid Loss: 0.4021, Valid Loss: 0.4535, Train Acc: 0.8593, Valid Acc: 0.8390\n"
     ]
    },
    {
     "name": "stderr",
     "output_type": "stream",
     "text": [
      "2024/09/24 11:06:58 WARNING mlflow.utils.autologging_utils: You are using an unsupported version of pytorch. If you encounter errors during autologging, try upgrading / downgrading pytorch to a supported version, or try upgrading MLflow.\n"
     ]
    },
    {
     "name": "stdout",
     "output_type": "stream",
     "text": [
      "[I 2024-09-24 11:06:58,652] Trial 10 finished with value: 0.8453525900840759 and parameters: {'n_hidden': 0}. Best is trial 10 with value: 0.8453525900840759.\n",
      "file:///d:\\docs\\DSL\\Teaching\\CAS_AML\\CAS_AML_M3\\mlflow\n",
      "Epoch 1/9, Valid Loss: 0.5539, Valid Loss: 0.4904, Train Acc: 0.8093, Valid Acc: 0.8279\n",
      "Epoch 2/9, Valid Loss: 0.4532, Valid Loss: 0.4689, Train Acc: 0.8417, Valid Acc: 0.8341\n",
      "Epoch 3/9, Valid Loss: 0.4350, Valid Loss: 0.4726, Train Acc: 0.8488, Valid Acc: 0.8317\n",
      "Epoch 4/9, Valid Loss: 0.4238, Valid Loss: 0.4606, Train Acc: 0.8524, Valid Acc: 0.8354\n",
      "Epoch 5/9, Valid Loss: 0.4189, Valid Loss: 0.4654, Train Acc: 0.8540, Valid Acc: 0.8353\n",
      "Epoch 6/9, Valid Loss: 0.4127, Valid Loss: 0.4619, Train Acc: 0.8556, Valid Acc: 0.8349\n",
      "Epoch 7/9, Valid Loss: 0.4074, Valid Loss: 0.4578, Train Acc: 0.8567, Valid Acc: 0.8376\n",
      "Epoch 8/9, Valid Loss: 0.4057, Valid Loss: 0.4457, Train Acc: 0.8582, Valid Acc: 0.8426\n",
      "Epoch 9/9, Valid Loss: 0.4032, Valid Loss: 0.4565, Train Acc: 0.8599, Valid Acc: 0.8404\n"
     ]
    },
    {
     "name": "stderr",
     "output_type": "stream",
     "text": [
      "2024/09/24 11:11:25 WARNING mlflow.utils.autologging_utils: You are using an unsupported version of pytorch. If you encounter errors during autologging, try upgrading / downgrading pytorch to a supported version, or try upgrading MLflow.\n"
     ]
    },
    {
     "name": "stdout",
     "output_type": "stream",
     "text": [
      "[I 2024-09-24 11:11:25,050] Trial 11 finished with value: 0.8426482081413269 and parameters: {'n_hidden': 0}. Best is trial 10 with value: 0.8453525900840759.\n",
      "file:///d:\\docs\\DSL\\Teaching\\CAS_AML\\CAS_AML_M3\\mlflow\n",
      "Epoch 1/9, Valid Loss: 0.5608, Valid Loss: 0.5064, Train Acc: 0.8053, Valid Acc: 0.8224\n",
      "Epoch 2/9, Valid Loss: 0.4539, Valid Loss: 0.4785, Train Acc: 0.8417, Valid Acc: 0.8288\n",
      "Epoch 3/9, Valid Loss: 0.4348, Valid Loss: 0.4596, Train Acc: 0.8491, Valid Acc: 0.8376\n",
      "Epoch 4/9, Valid Loss: 0.4256, Valid Loss: 0.4531, Train Acc: 0.8524, Valid Acc: 0.8394\n",
      "Epoch 5/9, Valid Loss: 0.4181, Valid Loss: 0.4608, Train Acc: 0.8534, Valid Acc: 0.8363\n",
      "Epoch 6/9, Valid Loss: 0.4148, Valid Loss: 0.4580, Train Acc: 0.8551, Valid Acc: 0.8415\n",
      "Epoch 7/9, Valid Loss: 0.4077, Valid Loss: 0.4637, Train Acc: 0.8579, Valid Acc: 0.8334\n",
      "Epoch 8/9, Valid Loss: 0.4071, Valid Loss: 0.4501, Train Acc: 0.8584, Valid Acc: 0.8416\n",
      "Epoch 9/9, Valid Loss: 0.4022, Valid Loss: 0.4510, Train Acc: 0.8580, Valid Acc: 0.8403\n"
     ]
    },
    {
     "name": "stderr",
     "output_type": "stream",
     "text": [
      "2024/09/24 11:15:26 WARNING mlflow.utils.autologging_utils: You are using an unsupported version of pytorch. If you encounter errors during autologging, try upgrading / downgrading pytorch to a supported version, or try upgrading MLflow.\n"
     ]
    },
    {
     "name": "stdout",
     "output_type": "stream",
     "text": [
      "[I 2024-09-24 11:15:26,901] Trial 12 finished with value: 0.8416466116905212 and parameters: {'n_hidden': 0}. Best is trial 10 with value: 0.8453525900840759.\n",
      "file:///d:\\docs\\DSL\\Teaching\\CAS_AML\\CAS_AML_M3\\mlflow\n",
      "Epoch 1/9, Valid Loss: 0.5593, Valid Loss: 0.4920, Train Acc: 0.8045, Valid Acc: 0.8235\n",
      "Epoch 2/9, Valid Loss: 0.4539, Valid Loss: 0.4710, Train Acc: 0.8410, Valid Acc: 0.8327\n",
      "Epoch 3/9, Valid Loss: 0.4356, Valid Loss: 0.4725, Train Acc: 0.8485, Valid Acc: 0.8336\n",
      "Epoch 4/9, Valid Loss: 0.4253, Valid Loss: 0.4554, Train Acc: 0.8518, Valid Acc: 0.8394\n",
      "Epoch 5/9, Valid Loss: 0.4164, Valid Loss: 0.4710, Train Acc: 0.8542, Valid Acc: 0.8305\n",
      "Epoch 6/9, Valid Loss: 0.4119, Valid Loss: 0.4555, Train Acc: 0.8559, Valid Acc: 0.8409\n",
      "Epoch 7/9, Valid Loss: 0.4077, Valid Loss: 0.4517, Train Acc: 0.8576, Valid Acc: 0.8417\n",
      "Epoch 8/9, Valid Loss: 0.4053, Valid Loss: 0.4578, Train Acc: 0.8576, Valid Acc: 0.8369\n",
      "Epoch 9/9, Valid Loss: 0.4033, Valid Loss: 0.4566, Train Acc: 0.8583, Valid Acc: 0.8413\n"
     ]
    },
    {
     "name": "stderr",
     "output_type": "stream",
     "text": [
      "2024/09/24 11:19:24 WARNING mlflow.utils.autologging_utils: You are using an unsupported version of pytorch. If you encounter errors during autologging, try upgrading / downgrading pytorch to a supported version, or try upgrading MLflow.\n"
     ]
    },
    {
     "name": "stdout",
     "output_type": "stream",
     "text": [
      "[I 2024-09-24 11:19:24,729] Trial 13 finished with value: 0.8417468070983887 and parameters: {'n_hidden': 1, 'n_hidden_0': 10}. Best is trial 10 with value: 0.8453525900840759.\n",
      "file:///d:\\docs\\DSL\\Teaching\\CAS_AML\\CAS_AML_M3\\mlflow\n",
      "Epoch 1/9, Valid Loss: 0.5555, Valid Loss: 0.4875, Train Acc: 0.8081, Valid Acc: 0.8272\n",
      "Epoch 2/9, Valid Loss: 0.4547, Valid Loss: 0.4679, Train Acc: 0.8434, Valid Acc: 0.8335\n",
      "Epoch 3/9, Valid Loss: 0.4354, Valid Loss: 0.4633, Train Acc: 0.8477, Valid Acc: 0.8345\n",
      "Epoch 4/9, Valid Loss: 0.4238, Valid Loss: 0.4584, Train Acc: 0.8511, Valid Acc: 0.8382\n",
      "Epoch 5/9, Valid Loss: 0.4176, Valid Loss: 0.4737, Train Acc: 0.8546, Valid Acc: 0.8336\n",
      "Epoch 6/9, Valid Loss: 0.4129, Valid Loss: 0.4898, Train Acc: 0.8558, Valid Acc: 0.8252\n",
      "Epoch 7/9, Valid Loss: 0.4097, Valid Loss: 0.4769, Train Acc: 0.8560, Valid Acc: 0.8337\n",
      "Epoch 8/9, Valid Loss: 0.4054, Valid Loss: 0.4627, Train Acc: 0.8575, Valid Acc: 0.8347\n",
      "Epoch 9/9, Valid Loss: 0.4020, Valid Loss: 0.4591, Train Acc: 0.8581, Valid Acc: 0.8332\n"
     ]
    },
    {
     "name": "stderr",
     "output_type": "stream",
     "text": [
      "2024/09/24 11:23:12 WARNING mlflow.utils.autologging_utils: You are using an unsupported version of pytorch. If you encounter errors during autologging, try upgrading / downgrading pytorch to a supported version, or try upgrading MLflow.\n"
     ]
    },
    {
     "name": "stdout",
     "output_type": "stream",
     "text": [
      "[I 2024-09-24 11:23:12,072] Trial 14 finished with value: 0.8382411599159241 and parameters: {'n_hidden': 0}. Best is trial 10 with value: 0.8453525900840759.\n",
      "file:///d:\\docs\\DSL\\Teaching\\CAS_AML\\CAS_AML_M3\\mlflow\n",
      "Epoch 1/9, Valid Loss: 0.5591, Valid Loss: 0.4901, Train Acc: 0.8057, Valid Acc: 0.8262\n",
      "Epoch 2/9, Valid Loss: 0.4537, Valid Loss: 0.4730, Train Acc: 0.8421, Valid Acc: 0.8351\n",
      "Epoch 3/9, Valid Loss: 0.4351, Valid Loss: 0.4714, Train Acc: 0.8475, Valid Acc: 0.8323\n",
      "Epoch 4/9, Valid Loss: 0.4255, Valid Loss: 0.4589, Train Acc: 0.8516, Valid Acc: 0.8416\n",
      "Epoch 5/9, Valid Loss: 0.4188, Valid Loss: 0.4616, Train Acc: 0.8550, Valid Acc: 0.8357\n",
      "Epoch 6/9, Valid Loss: 0.4128, Valid Loss: 0.4547, Train Acc: 0.8561, Valid Acc: 0.8401\n",
      "Epoch 7/9, Valid Loss: 0.4077, Valid Loss: 0.4585, Train Acc: 0.8584, Valid Acc: 0.8355\n",
      "Epoch 8/9, Valid Loss: 0.4061, Valid Loss: 0.4562, Train Acc: 0.8585, Valid Acc: 0.8399\n",
      "Epoch 9/9, Valid Loss: 0.4033, Valid Loss: 0.4465, Train Acc: 0.8597, Valid Acc: 0.8397\n"
     ]
    },
    {
     "name": "stderr",
     "output_type": "stream",
     "text": [
      "2024/09/24 11:27:12 WARNING mlflow.utils.autologging_utils: You are using an unsupported version of pytorch. If you encounter errors during autologging, try upgrading / downgrading pytorch to a supported version, or try upgrading MLflow.\n"
     ]
    },
    {
     "name": "stdout",
     "output_type": "stream",
     "text": [
      "[I 2024-09-24 11:27:12,341] Trial 15 finished with value: 0.8416466116905212 and parameters: {'n_hidden': 1, 'n_hidden_0': 10}. Best is trial 10 with value: 0.8453525900840759.\n",
      "file:///d:\\docs\\DSL\\Teaching\\CAS_AML\\CAS_AML_M3\\mlflow\n",
      "Epoch 1/9, Valid Loss: 0.5572, Valid Loss: 0.5147, Train Acc: 0.8083, Valid Acc: 0.8190\n",
      "Epoch 2/9, Valid Loss: 0.4551, Valid Loss: 0.4805, Train Acc: 0.8420, Valid Acc: 0.8285\n",
      "Epoch 3/9, Valid Loss: 0.4351, Valid Loss: 0.4584, Train Acc: 0.8481, Valid Acc: 0.8354\n",
      "Epoch 4/9, Valid Loss: 0.4251, Valid Loss: 0.4574, Train Acc: 0.8522, Valid Acc: 0.8382\n",
      "Epoch 5/9, Valid Loss: 0.4174, Valid Loss: 0.4726, Train Acc: 0.8538, Valid Acc: 0.8326\n",
      "Epoch 6/9, Valid Loss: 0.4133, Valid Loss: 0.4587, Train Acc: 0.8557, Valid Acc: 0.8320\n",
      "Epoch 7/9, Valid Loss: 0.4085, Valid Loss: 0.4628, Train Acc: 0.8576, Valid Acc: 0.8331\n",
      "Epoch 8/9, Valid Loss: 0.4057, Valid Loss: 0.4706, Train Acc: 0.8574, Valid Acc: 0.8334\n",
      "Epoch 9/9, Valid Loss: 0.4029, Valid Loss: 0.4604, Train Acc: 0.8601, Valid Acc: 0.8399\n"
     ]
    },
    {
     "name": "stderr",
     "output_type": "stream",
     "text": [
      "2024/09/24 11:31:21 WARNING mlflow.utils.autologging_utils: You are using an unsupported version of pytorch. If you encounter errors during autologging, try upgrading / downgrading pytorch to a supported version, or try upgrading MLflow.\n"
     ]
    },
    {
     "name": "stdout",
     "output_type": "stream",
     "text": [
      "[I 2024-09-24 11:31:21,676] Trial 16 finished with value: 0.8399438858032227 and parameters: {'n_hidden': 2, 'n_hidden_0': 9, 'n_hidden_1': 9}. Best is trial 10 with value: 0.8453525900840759.\n",
      "file:///d:\\docs\\DSL\\Teaching\\CAS_AML\\CAS_AML_M3\\mlflow\n",
      "Epoch 1/9, Valid Loss: 0.5626, Valid Loss: 0.5088, Train Acc: 0.8048, Valid Acc: 0.8225\n",
      "Epoch 2/9, Valid Loss: 0.4547, Valid Loss: 0.4842, Train Acc: 0.8424, Valid Acc: 0.8253\n",
      "Epoch 3/9, Valid Loss: 0.4358, Valid Loss: 0.4631, Train Acc: 0.8473, Valid Acc: 0.8367\n",
      "Epoch 4/9, Valid Loss: 0.4258, Valid Loss: 0.4619, Train Acc: 0.8517, Valid Acc: 0.8364\n",
      "Epoch 5/9, Valid Loss: 0.4175, Valid Loss: 0.4609, Train Acc: 0.8531, Valid Acc: 0.8392\n",
      "Epoch 6/9, Valid Loss: 0.4134, Valid Loss: 0.4619, Train Acc: 0.8556, Valid Acc: 0.8367\n",
      "Epoch 7/9, Valid Loss: 0.4080, Valid Loss: 0.4578, Train Acc: 0.8570, Valid Acc: 0.8375\n",
      "Epoch 8/9, Valid Loss: 0.4057, Valid Loss: 0.4618, Train Acc: 0.8590, Valid Acc: 0.8344\n",
      "Epoch 9/9, Valid Loss: 0.4043, Valid Loss: 0.4633, Train Acc: 0.8588, Valid Acc: 0.8360\n"
     ]
    },
    {
     "name": "stderr",
     "output_type": "stream",
     "text": [
      "2024/09/24 11:35:34 WARNING mlflow.utils.autologging_utils: You are using an unsupported version of pytorch. If you encounter errors during autologging, try upgrading / downgrading pytorch to a supported version, or try upgrading MLflow.\n"
     ]
    },
    {
     "name": "stdout",
     "output_type": "stream",
     "text": [
      "[I 2024-09-24 11:35:34,049] Trial 17 finished with value: 0.8392428159713745 and parameters: {'n_hidden': 0}. Best is trial 10 with value: 0.8453525900840759.\n",
      "file:///d:\\docs\\DSL\\Teaching\\CAS_AML\\CAS_AML_M3\\mlflow\n",
      "Epoch 1/9, Valid Loss: 0.5583, Valid Loss: 0.4870, Train Acc: 0.8061, Valid Acc: 0.8299\n",
      "Epoch 2/9, Valid Loss: 0.4539, Valid Loss: 0.4783, Train Acc: 0.8419, Valid Acc: 0.8324\n",
      "Epoch 3/9, Valid Loss: 0.4356, Valid Loss: 0.4717, Train Acc: 0.8480, Valid Acc: 0.8341\n",
      "Epoch 4/9, Valid Loss: 0.4246, Valid Loss: 0.4574, Train Acc: 0.8511, Valid Acc: 0.8370\n",
      "Epoch 5/9, Valid Loss: 0.4164, Valid Loss: 0.4576, Train Acc: 0.8545, Valid Acc: 0.8365\n",
      "Epoch 6/9, Valid Loss: 0.4127, Valid Loss: 0.4621, Train Acc: 0.8558, Valid Acc: 0.8366\n",
      "Epoch 7/9, Valid Loss: 0.4105, Valid Loss: 0.4547, Train Acc: 0.8568, Valid Acc: 0.8381\n",
      "Epoch 8/9, Valid Loss: 0.4055, Valid Loss: 0.4475, Train Acc: 0.8578, Valid Acc: 0.8413\n",
      "Epoch 9/9, Valid Loss: 0.4033, Valid Loss: 0.4438, Train Acc: 0.8591, Valid Acc: 0.8405\n"
     ]
    },
    {
     "name": "stderr",
     "output_type": "stream",
     "text": [
      "2024/09/24 11:39:36 WARNING mlflow.utils.autologging_utils: You are using an unsupported version of pytorch. If you encounter errors during autologging, try upgrading / downgrading pytorch to a supported version, or try upgrading MLflow.\n"
     ]
    },
    {
     "name": "stdout",
     "output_type": "stream",
     "text": [
      "[I 2024-09-24 11:39:36,651] Trial 18 finished with value: 0.8413461446762085 and parameters: {'n_hidden': 1, 'n_hidden_0': 9}. Best is trial 10 with value: 0.8453525900840759.\n",
      "file:///d:\\docs\\DSL\\Teaching\\CAS_AML\\CAS_AML_M3\\mlflow\n",
      "Epoch 1/9, Valid Loss: 0.5543, Valid Loss: 0.5216, Train Acc: 0.8079, Valid Acc: 0.8149\n",
      "Epoch 2/9, Valid Loss: 0.4553, Valid Loss: 0.4757, Train Acc: 0.8411, Valid Acc: 0.8294\n",
      "Epoch 3/9, Valid Loss: 0.4360, Valid Loss: 0.4671, Train Acc: 0.8477, Valid Acc: 0.8359\n",
      "Epoch 4/9, Valid Loss: 0.4242, Valid Loss: 0.4598, Train Acc: 0.8512, Valid Acc: 0.8376\n",
      "Epoch 5/9, Valid Loss: 0.4175, Valid Loss: 0.4502, Train Acc: 0.8533, Valid Acc: 0.8410\n",
      "Epoch 6/9, Valid Loss: 0.4131, Valid Loss: 0.4572, Train Acc: 0.8550, Valid Acc: 0.8381\n",
      "Epoch 7/9, Valid Loss: 0.4093, Valid Loss: 0.4589, Train Acc: 0.8559, Valid Acc: 0.8377\n",
      "Epoch 8/9, Valid Loss: 0.4054, Valid Loss: 0.4674, Train Acc: 0.8578, Valid Acc: 0.8366\n",
      "Epoch 9/9, Valid Loss: 0.4032, Valid Loss: 0.4453, Train Acc: 0.8575, Valid Acc: 0.8442\n"
     ]
    },
    {
     "name": "stderr",
     "output_type": "stream",
     "text": [
      "2024/09/24 11:43:23 WARNING mlflow.utils.autologging_utils: You are using an unsupported version of pytorch. If you encounter errors during autologging, try upgrading / downgrading pytorch to a supported version, or try upgrading MLflow.\n"
     ]
    },
    {
     "name": "stdout",
     "output_type": "stream",
     "text": [
      "[I 2024-09-24 11:43:23,447] Trial 19 finished with value: 0.8441506624221802 and parameters: {'n_hidden': 0}. Best is trial 10 with value: 0.8453525900840759.\n",
      "file:///d:\\docs\\DSL\\Teaching\\CAS_AML\\CAS_AML_M3\\mlflow\n",
      "Epoch 1/9, Valid Loss: 0.5546, Valid Loss: 0.5005, Train Acc: 0.8089, Valid Acc: 0.8201\n",
      "Epoch 2/9, Valid Loss: 0.4515, Valid Loss: 0.4861, Train Acc: 0.8430, Valid Acc: 0.8291\n",
      "Epoch 3/9, Valid Loss: 0.4356, Valid Loss: 0.4714, Train Acc: 0.8490, Valid Acc: 0.8358\n",
      "Epoch 4/9, Valid Loss: 0.4250, Valid Loss: 0.4574, Train Acc: 0.8507, Valid Acc: 0.8368\n",
      "Epoch 5/9, Valid Loss: 0.4188, Valid Loss: 0.4580, Train Acc: 0.8531, Valid Acc: 0.8380\n",
      "Epoch 6/9, Valid Loss: 0.4136, Valid Loss: 0.4477, Train Acc: 0.8544, Valid Acc: 0.8379\n",
      "Epoch 7/9, Valid Loss: 0.4075, Valid Loss: 0.4560, Train Acc: 0.8573, Valid Acc: 0.8389\n",
      "Epoch 8/9, Valid Loss: 0.4048, Valid Loss: 0.4553, Train Acc: 0.8588, Valid Acc: 0.8392\n",
      "Epoch 9/9, Valid Loss: 0.4023, Valid Loss: 0.4553, Train Acc: 0.8580, Valid Acc: 0.8422\n"
     ]
    },
    {
     "name": "stderr",
     "output_type": "stream",
     "text": [
      "2024/09/24 11:47:28 WARNING mlflow.utils.autologging_utils: You are using an unsupported version of pytorch. If you encounter errors during autologging, try upgrading / downgrading pytorch to a supported version, or try upgrading MLflow.\n"
     ]
    },
    {
     "name": "stdout",
     "output_type": "stream",
     "text": [
      "[I 2024-09-24 11:47:28,479] Trial 20 finished with value: 0.8422476053237915 and parameters: {'n_hidden': 0}. Best is trial 10 with value: 0.8453525900840759.\n",
      "file:///d:\\docs\\DSL\\Teaching\\CAS_AML\\CAS_AML_M3\\mlflow\n",
      "Epoch 1/9, Valid Loss: 0.5575, Valid Loss: 0.4892, Train Acc: 0.8067, Valid Acc: 0.8264\n",
      "Epoch 2/9, Valid Loss: 0.4535, Valid Loss: 0.4750, Train Acc: 0.8415, Valid Acc: 0.8296\n",
      "Epoch 3/9, Valid Loss: 0.4349, Valid Loss: 0.4716, Train Acc: 0.8478, Valid Acc: 0.8335\n",
      "Epoch 4/9, Valid Loss: 0.4254, Valid Loss: 0.4808, Train Acc: 0.8510, Valid Acc: 0.8301\n",
      "Epoch 5/9, Valid Loss: 0.4183, Valid Loss: 0.4617, Train Acc: 0.8541, Valid Acc: 0.8377\n",
      "Epoch 6/9, Valid Loss: 0.4130, Valid Loss: 0.4708, Train Acc: 0.8553, Valid Acc: 0.8320\n",
      "Epoch 7/9, Valid Loss: 0.4076, Valid Loss: 0.4625, Train Acc: 0.8576, Valid Acc: 0.8362\n",
      "Epoch 8/9, Valid Loss: 0.4046, Valid Loss: 0.4538, Train Acc: 0.8589, Valid Acc: 0.8397\n",
      "Epoch 9/9, Valid Loss: 0.4040, Valid Loss: 0.4521, Train Acc: 0.8582, Valid Acc: 0.8391\n"
     ]
    },
    {
     "name": "stderr",
     "output_type": "stream",
     "text": [
      "2024/09/24 11:51:13 WARNING mlflow.utils.autologging_utils: You are using an unsupported version of pytorch. If you encounter errors during autologging, try upgrading / downgrading pytorch to a supported version, or try upgrading MLflow.\n"
     ]
    },
    {
     "name": "stdout",
     "output_type": "stream",
     "text": [
      "[I 2024-09-24 11:51:13,125] Trial 21 finished with value: 0.8397436141967773 and parameters: {'n_hidden': 0}. Best is trial 10 with value: 0.8453525900840759.\n",
      "file:///d:\\docs\\DSL\\Teaching\\CAS_AML\\CAS_AML_M3\\mlflow\n",
      "Epoch 1/9, Valid Loss: 0.5596, Valid Loss: 0.5122, Train Acc: 0.8060, Valid Acc: 0.8132\n",
      "Epoch 2/9, Valid Loss: 0.4550, Valid Loss: 0.4709, Train Acc: 0.8405, Valid Acc: 0.8324\n",
      "Epoch 3/9, Valid Loss: 0.4360, Valid Loss: 0.4758, Train Acc: 0.8473, Valid Acc: 0.8308\n",
      "Epoch 4/9, Valid Loss: 0.4251, Valid Loss: 0.4766, Train Acc: 0.8524, Valid Acc: 0.8277\n",
      "Epoch 5/9, Valid Loss: 0.4193, Valid Loss: 0.4571, Train Acc: 0.8534, Valid Acc: 0.8374\n",
      "Epoch 6/9, Valid Loss: 0.4130, Valid Loss: 0.4650, Train Acc: 0.8558, Valid Acc: 0.8374\n",
      "Epoch 7/9, Valid Loss: 0.4080, Valid Loss: 0.4739, Train Acc: 0.8564, Valid Acc: 0.8306\n",
      "Epoch 8/9, Valid Loss: 0.4049, Valid Loss: 0.4685, Train Acc: 0.8581, Valid Acc: 0.8304\n",
      "Epoch 9/9, Valid Loss: 0.4029, Valid Loss: 0.4776, Train Acc: 0.8595, Valid Acc: 0.8256\n"
     ]
    },
    {
     "name": "stderr",
     "output_type": "stream",
     "text": [
      "2024/09/24 11:55:29 WARNING mlflow.utils.autologging_utils: You are using an unsupported version of pytorch. If you encounter errors during autologging, try upgrading / downgrading pytorch to a supported version, or try upgrading MLflow.\n"
     ]
    },
    {
     "name": "stdout",
     "output_type": "stream",
     "text": [
      "[I 2024-09-24 11:55:29,481] Trial 22 finished with value: 0.8374398946762085 and parameters: {'n_hidden': 1, 'n_hidden_0': 9}. Best is trial 10 with value: 0.8453525900840759.\n",
      "file:///d:\\docs\\DSL\\Teaching\\CAS_AML\\CAS_AML_M3\\mlflow\n",
      "Epoch 1/9, Valid Loss: 0.5576, Valid Loss: 0.5022, Train Acc: 0.8068, Valid Acc: 0.8262\n",
      "Epoch 2/9, Valid Loss: 0.4535, Valid Loss: 0.4684, Train Acc: 0.8427, Valid Acc: 0.8330\n",
      "Epoch 3/9, Valid Loss: 0.4352, Valid Loss: 0.4664, Train Acc: 0.8476, Valid Acc: 0.8369\n",
      "Epoch 4/9, Valid Loss: 0.4250, Valid Loss: 0.4533, Train Acc: 0.8522, Valid Acc: 0.8360\n",
      "Epoch 5/9, Valid Loss: 0.4182, Valid Loss: 0.4513, Train Acc: 0.8540, Valid Acc: 0.8427\n",
      "Epoch 6/9, Valid Loss: 0.4134, Valid Loss: 0.4524, Train Acc: 0.8551, Valid Acc: 0.8433\n",
      "Epoch 7/9, Valid Loss: 0.4094, Valid Loss: 0.4624, Train Acc: 0.8564, Valid Acc: 0.8345\n",
      "Epoch 8/9, Valid Loss: 0.4056, Valid Loss: 0.4549, Train Acc: 0.8575, Valid Acc: 0.8364\n",
      "Epoch 9/9, Valid Loss: 0.4026, Valid Loss: 0.4711, Train Acc: 0.8589, Valid Acc: 0.8343\n"
     ]
    },
    {
     "name": "stderr",
     "output_type": "stream",
     "text": [
      "2024/09/24 11:59:53 WARNING mlflow.utils.autologging_utils: You are using an unsupported version of pytorch. If you encounter errors during autologging, try upgrading / downgrading pytorch to a supported version, or try upgrading MLflow.\n"
     ]
    },
    {
     "name": "stdout",
     "output_type": "stream",
     "text": [
      "[I 2024-09-24 11:59:53,546] Trial 23 finished with value: 0.8433493375778198 and parameters: {'n_hidden': 0}. Best is trial 10 with value: 0.8453525900840759.\n",
      "file:///d:\\docs\\DSL\\Teaching\\CAS_AML\\CAS_AML_M3\\mlflow\n",
      "Epoch 1/9, Valid Loss: 0.5608, Valid Loss: 0.4963, Train Acc: 0.8046, Valid Acc: 0.8232\n",
      "Epoch 2/9, Valid Loss: 0.4543, Valid Loss: 0.4666, Train Acc: 0.8419, Valid Acc: 0.8326\n",
      "Epoch 3/9, Valid Loss: 0.4347, Valid Loss: 0.4621, Train Acc: 0.8484, Valid Acc: 0.8361\n",
      "Epoch 4/9, Valid Loss: 0.4248, Valid Loss: 0.4588, Train Acc: 0.8518, Valid Acc: 0.8364\n",
      "Epoch 5/9, Valid Loss: 0.4184, Valid Loss: 0.4605, Train Acc: 0.8525, Valid Acc: 0.8370\n",
      "Epoch 6/9, Valid Loss: 0.4125, Valid Loss: 0.4700, Train Acc: 0.8556, Valid Acc: 0.8332\n",
      "Epoch 7/9, Valid Loss: 0.4084, Valid Loss: 0.4598, Train Acc: 0.8583, Valid Acc: 0.8348\n",
      "Epoch 8/9, Valid Loss: 0.4067, Valid Loss: 0.4709, Train Acc: 0.8572, Valid Acc: 0.8354\n",
      "Epoch 9/9, Valid Loss: 0.4024, Valid Loss: 0.4492, Train Acc: 0.8591, Valid Acc: 0.8411\n"
     ]
    },
    {
     "name": "stderr",
     "output_type": "stream",
     "text": [
      "2024/09/24 12:04:13 WARNING mlflow.utils.autologging_utils: You are using an unsupported version of pytorch. If you encounter errors during autologging, try upgrading / downgrading pytorch to a supported version, or try upgrading MLflow.\n"
     ]
    },
    {
     "name": "stdout",
     "output_type": "stream",
     "text": [
      "[I 2024-09-24 12:04:13,870] Trial 24 finished with value: 0.8411458134651184 and parameters: {'n_hidden': 1, 'n_hidden_0': 10}. Best is trial 10 with value: 0.8453525900840759.\n",
      "file:///d:\\docs\\DSL\\Teaching\\CAS_AML\\CAS_AML_M3\\mlflow\n",
      "Epoch 1/9, Valid Loss: 0.5578, Valid Loss: 0.4975, Train Acc: 0.8059, Valid Acc: 0.8229\n",
      "Epoch 2/9, Valid Loss: 0.4546, Valid Loss: 0.4834, Train Acc: 0.8426, Valid Acc: 0.8307\n",
      "Epoch 3/9, Valid Loss: 0.4361, Valid Loss: 0.4698, Train Acc: 0.8480, Valid Acc: 0.8317\n",
      "Epoch 4/9, Valid Loss: 0.4241, Valid Loss: 0.4603, Train Acc: 0.8521, Valid Acc: 0.8350\n",
      "Epoch 5/9, Valid Loss: 0.4175, Valid Loss: 0.4522, Train Acc: 0.8549, Valid Acc: 0.8370\n",
      "Epoch 6/9, Valid Loss: 0.4119, Valid Loss: 0.4469, Train Acc: 0.8560, Valid Acc: 0.8412\n",
      "Epoch 7/9, Valid Loss: 0.4108, Valid Loss: 0.4536, Train Acc: 0.8558, Valid Acc: 0.8401\n",
      "Epoch 8/9, Valid Loss: 0.4068, Valid Loss: 0.4478, Train Acc: 0.8585, Valid Acc: 0.8396\n",
      "Epoch 9/9, Valid Loss: 0.4035, Valid Loss: 0.4587, Train Acc: 0.8595, Valid Acc: 0.8347\n"
     ]
    },
    {
     "name": "stderr",
     "output_type": "stream",
     "text": [
      "2024/09/24 12:08:34 WARNING mlflow.utils.autologging_utils: You are using an unsupported version of pytorch. If you encounter errors during autologging, try upgrading / downgrading pytorch to a supported version, or try upgrading MLflow.\n"
     ]
    },
    {
     "name": "stdout",
     "output_type": "stream",
     "text": [
      "[I 2024-09-24 12:08:34,060] Trial 25 finished with value: 0.8412460088729858 and parameters: {'n_hidden': 0}. Best is trial 10 with value: 0.8453525900840759.\n",
      "file:///d:\\docs\\DSL\\Teaching\\CAS_AML\\CAS_AML_M3\\mlflow\n",
      "Epoch 1/9, Valid Loss: 0.5601, Valid Loss: 0.4868, Train Acc: 0.8058, Valid Acc: 0.8305\n",
      "Epoch 2/9, Valid Loss: 0.4547, Valid Loss: 0.4786, Train Acc: 0.8416, Valid Acc: 0.8299\n",
      "Epoch 3/9, Valid Loss: 0.4354, Valid Loss: 0.4774, Train Acc: 0.8480, Valid Acc: 0.8316\n",
      "Epoch 4/9, Valid Loss: 0.4246, Valid Loss: 0.4564, Train Acc: 0.8517, Valid Acc: 0.8337\n",
      "Epoch 5/9, Valid Loss: 0.4179, Valid Loss: 0.4550, Train Acc: 0.8545, Valid Acc: 0.8398\n",
      "Epoch 6/9, Valid Loss: 0.4131, Valid Loss: 0.4671, Train Acc: 0.8560, Valid Acc: 0.8379\n",
      "Epoch 7/9, Valid Loss: 0.4079, Valid Loss: 0.4582, Train Acc: 0.8581, Valid Acc: 0.8377\n",
      "Epoch 8/9, Valid Loss: 0.4040, Valid Loss: 0.4546, Train Acc: 0.8583, Valid Acc: 0.8364\n",
      "Epoch 9/9, Valid Loss: 0.4026, Valid Loss: 0.4547, Train Acc: 0.8582, Valid Acc: 0.8375\n"
     ]
    },
    {
     "name": "stderr",
     "output_type": "stream",
     "text": [
      "2024/09/24 12:13:04 WARNING mlflow.utils.autologging_utils: You are using an unsupported version of pytorch. If you encounter errors during autologging, try upgrading / downgrading pytorch to a supported version, or try upgrading MLflow.\n"
     ]
    },
    {
     "name": "stdout",
     "output_type": "stream",
     "text": [
      "[I 2024-09-24 12:13:04,287] Trial 26 finished with value: 0.83984375 and parameters: {'n_hidden': 2, 'n_hidden_0': 8, 'n_hidden_1': 4}. Best is trial 10 with value: 0.8453525900840759.\n",
      "file:///d:\\docs\\DSL\\Teaching\\CAS_AML\\CAS_AML_M3\\mlflow\n",
      "Epoch 1/9, Valid Loss: 0.5568, Valid Loss: 0.5014, Train Acc: 0.8066, Valid Acc: 0.8236\n",
      "Epoch 2/9, Valid Loss: 0.4525, Valid Loss: 0.4940, Train Acc: 0.8425, Valid Acc: 0.8236\n",
      "Epoch 3/9, Valid Loss: 0.4356, Valid Loss: 0.4666, Train Acc: 0.8478, Valid Acc: 0.8331\n",
      "Epoch 4/9, Valid Loss: 0.4246, Valid Loss: 0.4617, Train Acc: 0.8518, Valid Acc: 0.8345\n",
      "Epoch 5/9, Valid Loss: 0.4186, Valid Loss: 0.4603, Train Acc: 0.8534, Valid Acc: 0.8366\n",
      "Epoch 6/9, Valid Loss: 0.4131, Valid Loss: 0.4540, Train Acc: 0.8556, Valid Acc: 0.8380\n",
      "Epoch 7/9, Valid Loss: 0.4091, Valid Loss: 0.4715, Train Acc: 0.8565, Valid Acc: 0.8303\n",
      "Epoch 8/9, Valid Loss: 0.4041, Valid Loss: 0.4524, Train Acc: 0.8594, Valid Acc: 0.8376\n",
      "Epoch 9/9, Valid Loss: 0.4022, Valid Loss: 0.4500, Train Acc: 0.8590, Valid Acc: 0.8398\n"
     ]
    },
    {
     "name": "stderr",
     "output_type": "stream",
     "text": [
      "2024/09/24 12:17:10 WARNING mlflow.utils.autologging_utils: You are using an unsupported version of pytorch. If you encounter errors during autologging, try upgrading / downgrading pytorch to a supported version, or try upgrading MLflow.\n"
     ]
    },
    {
     "name": "stdout",
     "output_type": "stream",
     "text": [
      "[I 2024-09-24 12:17:10,495] Trial 27 finished with value: 0.83984375 and parameters: {'n_hidden': 1, 'n_hidden_0': 4}. Best is trial 10 with value: 0.8453525900840759.\n",
      "file:///d:\\docs\\DSL\\Teaching\\CAS_AML\\CAS_AML_M3\\mlflow\n",
      "Epoch 1/9, Valid Loss: 0.5603, Valid Loss: 0.4959, Train Acc: 0.8045, Valid Acc: 0.8267\n",
      "Epoch 2/9, Valid Loss: 0.4549, Valid Loss: 0.4833, Train Acc: 0.8395, Valid Acc: 0.8322\n",
      "Epoch 3/9, Valid Loss: 0.4345, Valid Loss: 0.4607, Train Acc: 0.8494, Valid Acc: 0.8380\n",
      "Epoch 4/9, Valid Loss: 0.4248, Valid Loss: 0.4829, Train Acc: 0.8511, Valid Acc: 0.8301\n",
      "Epoch 5/9, Valid Loss: 0.4191, Valid Loss: 0.4603, Train Acc: 0.8533, Valid Acc: 0.8383\n",
      "Epoch 6/9, Valid Loss: 0.4134, Valid Loss: 0.4580, Train Acc: 0.8552, Valid Acc: 0.8393\n",
      "Epoch 7/9, Valid Loss: 0.4093, Valid Loss: 0.4507, Train Acc: 0.8565, Valid Acc: 0.8418\n",
      "Epoch 8/9, Valid Loss: 0.4057, Valid Loss: 0.4444, Train Acc: 0.8577, Valid Acc: 0.8425\n",
      "Epoch 9/9, Valid Loss: 0.4029, Valid Loss: 0.4611, Train Acc: 0.8588, Valid Acc: 0.8389\n"
     ]
    },
    {
     "name": "stderr",
     "output_type": "stream",
     "text": [
      "2024/09/24 12:21:03 WARNING mlflow.utils.autologging_utils: You are using an unsupported version of pytorch. If you encounter errors during autologging, try upgrading / downgrading pytorch to a supported version, or try upgrading MLflow.\n"
     ]
    },
    {
     "name": "stdout",
     "output_type": "stream",
     "text": [
      "[I 2024-09-24 12:21:03,941] Trial 28 finished with value: 0.8425480723381042 and parameters: {'n_hidden': 0}. Best is trial 10 with value: 0.8453525900840759.\n",
      "file:///d:\\docs\\DSL\\Teaching\\CAS_AML\\CAS_AML_M3\\mlflow\n",
      "Epoch 1/9, Valid Loss: 0.5579, Valid Loss: 0.4923, Train Acc: 0.8064, Valid Acc: 0.8256\n",
      "Epoch 2/9, Valid Loss: 0.4529, Valid Loss: 0.4721, Train Acc: 0.8431, Valid Acc: 0.8324\n",
      "Epoch 3/9, Valid Loss: 0.4346, Valid Loss: 0.4732, Train Acc: 0.8492, Valid Acc: 0.8298\n",
      "Epoch 4/9, Valid Loss: 0.4246, Valid Loss: 0.4577, Train Acc: 0.8513, Valid Acc: 0.8360\n",
      "Epoch 5/9, Valid Loss: 0.4177, Valid Loss: 0.4594, Train Acc: 0.8545, Valid Acc: 0.8360\n",
      "Epoch 6/9, Valid Loss: 0.4127, Valid Loss: 0.4679, Train Acc: 0.8547, Valid Acc: 0.8334\n",
      "Epoch 7/9, Valid Loss: 0.4091, Valid Loss: 0.4514, Train Acc: 0.8569, Valid Acc: 0.8366\n",
      "Epoch 8/9, Valid Loss: 0.4056, Valid Loss: 0.4500, Train Acc: 0.8572, Valid Acc: 0.8383\n",
      "Epoch 9/9, Valid Loss: 0.4008, Valid Loss: 0.4541, Train Acc: 0.8590, Valid Acc: 0.8348\n"
     ]
    },
    {
     "name": "stderr",
     "output_type": "stream",
     "text": [
      "2024/09/24 12:25:14 WARNING mlflow.utils.autologging_utils: You are using an unsupported version of pytorch. If you encounter errors during autologging, try upgrading / downgrading pytorch to a supported version, or try upgrading MLflow.\n"
     ]
    },
    {
     "name": "stdout",
     "output_type": "stream",
     "text": [
      "[I 2024-09-24 12:25:14,871] Trial 29 finished with value: 0.8383413553237915 and parameters: {'n_hidden': 0}. Best is trial 10 with value: 0.8453525900840759.\n",
      "file:///d:\\docs\\DSL\\Teaching\\CAS_AML\\CAS_AML_M3\\mlflow\n",
      "Epoch 1/9, Valid Loss: 0.5545, Valid Loss: 0.4884, Train Acc: 0.8083, Valid Acc: 0.8278\n",
      "Epoch 2/9, Valid Loss: 0.4521, Valid Loss: 0.4727, Train Acc: 0.8431, Valid Acc: 0.8352\n",
      "Epoch 3/9, Valid Loss: 0.4346, Valid Loss: 0.4717, Train Acc: 0.8481, Valid Acc: 0.8339\n",
      "Epoch 4/9, Valid Loss: 0.4261, Valid Loss: 0.4780, Train Acc: 0.8512, Valid Acc: 0.8289\n",
      "Epoch 5/9, Valid Loss: 0.4180, Valid Loss: 0.4559, Train Acc: 0.8533, Valid Acc: 0.8380\n",
      "Epoch 6/9, Valid Loss: 0.4127, Valid Loss: 0.4683, Train Acc: 0.8558, Valid Acc: 0.8273\n",
      "Epoch 7/9, Valid Loss: 0.4079, Valid Loss: 0.4510, Train Acc: 0.8581, Valid Acc: 0.8433\n",
      "Epoch 8/9, Valid Loss: 0.4047, Valid Loss: 0.4496, Train Acc: 0.8592, Valid Acc: 0.8415\n",
      "Epoch 9/9, Valid Loss: 0.4029, Valid Loss: 0.4473, Train Acc: 0.8587, Valid Acc: 0.8424\n"
     ]
    },
    {
     "name": "stderr",
     "output_type": "stream",
     "text": [
      "2024/09/24 12:29:36 WARNING mlflow.utils.autologging_utils: You are using an unsupported version of pytorch. If you encounter errors during autologging, try upgrading / downgrading pytorch to a supported version, or try upgrading MLflow.\n"
     ]
    },
    {
     "name": "stdout",
     "output_type": "stream",
     "text": [
      "[I 2024-09-24 12:29:36,298] Trial 30 finished with value: 0.8433493375778198 and parameters: {'n_hidden': 1, 'n_hidden_0': 6}. Best is trial 10 with value: 0.8453525900840759.\n",
      "file:///d:\\docs\\DSL\\Teaching\\CAS_AML\\CAS_AML_M3\\mlflow\n",
      "Epoch 1/9, Valid Loss: 0.5556, Valid Loss: 0.4902, Train Acc: 0.8066, Valid Acc: 0.8264\n",
      "Epoch 2/9, Valid Loss: 0.4535, Valid Loss: 0.4702, Train Acc: 0.8415, Valid Acc: 0.8315\n",
      "Epoch 3/9, Valid Loss: 0.4356, Valid Loss: 0.4693, Train Acc: 0.8475, Valid Acc: 0.8373\n",
      "Epoch 4/9, Valid Loss: 0.4253, Valid Loss: 0.4576, Train Acc: 0.8519, Valid Acc: 0.8362\n",
      "Epoch 5/9, Valid Loss: 0.4171, Valid Loss: 0.4501, Train Acc: 0.8552, Valid Acc: 0.8421\n",
      "Epoch 6/9, Valid Loss: 0.4126, Valid Loss: 0.4583, Train Acc: 0.8564, Valid Acc: 0.8360\n",
      "Epoch 7/9, Valid Loss: 0.4098, Valid Loss: 0.4557, Train Acc: 0.8565, Valid Acc: 0.8414\n",
      "Epoch 8/9, Valid Loss: 0.4052, Valid Loss: 0.4491, Train Acc: 0.8570, Valid Acc: 0.8395\n",
      "Epoch 9/9, Valid Loss: 0.4014, Valid Loss: 0.4525, Train Acc: 0.8588, Valid Acc: 0.8384\n"
     ]
    },
    {
     "name": "stderr",
     "output_type": "stream",
     "text": [
      "2024/09/24 12:33:41 WARNING mlflow.utils.autologging_utils: You are using an unsupported version of pytorch. If you encounter errors during autologging, try upgrading / downgrading pytorch to a supported version, or try upgrading MLflow.\n"
     ]
    },
    {
     "name": "stdout",
     "output_type": "stream",
     "text": [
      "[I 2024-09-24 12:33:40,984] Trial 31 finished with value: 0.8421474099159241 and parameters: {'n_hidden': 0}. Best is trial 10 with value: 0.8453525900840759.\n",
      "file:///d:\\docs\\DSL\\Teaching\\CAS_AML\\CAS_AML_M3\\mlflow\n",
      "Epoch 1/9, Valid Loss: 0.5584, Valid Loss: 0.4925, Train Acc: 0.8074, Valid Acc: 0.8268\n",
      "Epoch 2/9, Valid Loss: 0.4540, Valid Loss: 0.4670, Train Acc: 0.8419, Valid Acc: 0.8312\n",
      "Epoch 3/9, Valid Loss: 0.4339, Valid Loss: 0.4713, Train Acc: 0.8476, Valid Acc: 0.8336\n",
      "Epoch 4/9, Valid Loss: 0.4251, Valid Loss: 0.4543, Train Acc: 0.8514, Valid Acc: 0.8381\n",
      "Epoch 5/9, Valid Loss: 0.4181, Valid Loss: 0.4656, Train Acc: 0.8537, Valid Acc: 0.8342\n",
      "Epoch 6/9, Valid Loss: 0.4117, Valid Loss: 0.4529, Train Acc: 0.8558, Valid Acc: 0.8385\n",
      "Epoch 7/9, Valid Loss: 0.4083, Valid Loss: 0.4519, Train Acc: 0.8570, Valid Acc: 0.8399\n",
      "Epoch 8/9, Valid Loss: 0.4051, Valid Loss: 0.4714, Train Acc: 0.8583, Valid Acc: 0.8305\n",
      "Epoch 9/9, Valid Loss: 0.4025, Valid Loss: 0.4459, Train Acc: 0.8588, Valid Acc: 0.8435\n"
     ]
    },
    {
     "name": "stderr",
     "output_type": "stream",
     "text": [
      "2024/09/24 12:37:39 WARNING mlflow.utils.autologging_utils: You are using an unsupported version of pytorch. If you encounter errors during autologging, try upgrading / downgrading pytorch to a supported version, or try upgrading MLflow.\n"
     ]
    },
    {
     "name": "stdout",
     "output_type": "stream",
     "text": [
      "[I 2024-09-24 12:37:39,729] Trial 32 finished with value: 0.8435496687889099 and parameters: {'n_hidden': 0}. Best is trial 10 with value: 0.8453525900840759.\n",
      "file:///d:\\docs\\DSL\\Teaching\\CAS_AML\\CAS_AML_M3\\mlflow\n",
      "Epoch 1/9, Valid Loss: 0.5591, Valid Loss: 0.4957, Train Acc: 0.8064, Valid Acc: 0.8238\n",
      "Epoch 2/9, Valid Loss: 0.4545, Valid Loss: 0.4765, Train Acc: 0.8416, Valid Acc: 0.8324\n",
      "Epoch 3/9, Valid Loss: 0.4344, Valid Loss: 0.4646, Train Acc: 0.8495, Valid Acc: 0.8297\n",
      "Epoch 4/9, Valid Loss: 0.4239, Valid Loss: 0.4566, Train Acc: 0.8525, Valid Acc: 0.8378\n",
      "Epoch 5/9, Valid Loss: 0.4185, Valid Loss: 0.4571, Train Acc: 0.8532, Valid Acc: 0.8414\n",
      "Epoch 6/9, Valid Loss: 0.4142, Valid Loss: 0.4557, Train Acc: 0.8549, Valid Acc: 0.8388\n",
      "Epoch 7/9, Valid Loss: 0.4090, Valid Loss: 0.4616, Train Acc: 0.8571, Valid Acc: 0.8332\n",
      "Epoch 8/9, Valid Loss: 0.4046, Valid Loss: 0.4592, Train Acc: 0.8574, Valid Acc: 0.8338\n",
      "Epoch 9/9, Valid Loss: 0.4030, Valid Loss: 0.4560, Train Acc: 0.8590, Valid Acc: 0.8348\n"
     ]
    },
    {
     "name": "stderr",
     "output_type": "stream",
     "text": [
      "2024/09/24 12:41:41 WARNING mlflow.utils.autologging_utils: You are using an unsupported version of pytorch. If you encounter errors during autologging, try upgrading / downgrading pytorch to a supported version, or try upgrading MLflow.\n"
     ]
    },
    {
     "name": "stdout",
     "output_type": "stream",
     "text": [
      "[I 2024-09-24 12:41:41,911] Trial 33 finished with value: 0.8414463400840759 and parameters: {'n_hidden': 0}. Best is trial 10 with value: 0.8453525900840759.\n",
      "file:///d:\\docs\\DSL\\Teaching\\CAS_AML\\CAS_AML_M3\\mlflow\n",
      "Epoch 1/9, Valid Loss: 0.5562, Valid Loss: 0.4894, Train Acc: 0.8077, Valid Acc: 0.8266\n",
      "Epoch 2/9, Valid Loss: 0.4545, Valid Loss: 0.4727, Train Acc: 0.8411, Valid Acc: 0.8327\n",
      "Epoch 3/9, Valid Loss: 0.4337, Valid Loss: 0.4749, Train Acc: 0.8496, Valid Acc: 0.8306\n",
      "Epoch 4/9, Valid Loss: 0.4254, Valid Loss: 0.4679, Train Acc: 0.8522, Valid Acc: 0.8344\n",
      "Epoch 5/9, Valid Loss: 0.4178, Valid Loss: 0.4650, Train Acc: 0.8547, Valid Acc: 0.8338\n",
      "Epoch 6/9, Valid Loss: 0.4127, Valid Loss: 0.4630, Train Acc: 0.8551, Valid Acc: 0.8354\n",
      "Epoch 7/9, Valid Loss: 0.4081, Valid Loss: 0.4507, Train Acc: 0.8577, Valid Acc: 0.8386\n",
      "Epoch 8/9, Valid Loss: 0.4060, Valid Loss: 0.4545, Train Acc: 0.8578, Valid Acc: 0.8410\n",
      "Epoch 9/9, Valid Loss: 0.4031, Valid Loss: 0.4461, Train Acc: 0.8592, Valid Acc: 0.8410\n"
     ]
    },
    {
     "name": "stderr",
     "output_type": "stream",
     "text": [
      "2024/09/24 12:45:48 WARNING mlflow.utils.autologging_utils: You are using an unsupported version of pytorch. If you encounter errors during autologging, try upgrading / downgrading pytorch to a supported version, or try upgrading MLflow.\n"
     ]
    },
    {
     "name": "stdout",
     "output_type": "stream",
     "text": [
      "[I 2024-09-24 12:45:48,338] Trial 34 finished with value: 0.8410456776618958 and parameters: {'n_hidden': 0}. Best is trial 10 with value: 0.8453525900840759.\n",
      "file:///d:\\docs\\DSL\\Teaching\\CAS_AML\\CAS_AML_M3\\mlflow\n",
      "Epoch 1/9, Valid Loss: 0.5574, Valid Loss: 0.4900, Train Acc: 0.8066, Valid Acc: 0.8244\n",
      "Epoch 2/9, Valid Loss: 0.4534, Valid Loss: 0.4727, Train Acc: 0.8417, Valid Acc: 0.8277\n",
      "Epoch 3/9, Valid Loss: 0.4364, Valid Loss: 0.4621, Train Acc: 0.8477, Valid Acc: 0.8355\n",
      "Epoch 4/9, Valid Loss: 0.4249, Valid Loss: 0.4630, Train Acc: 0.8505, Valid Acc: 0.8358\n",
      "Epoch 5/9, Valid Loss: 0.4198, Valid Loss: 0.4610, Train Acc: 0.8527, Valid Acc: 0.8338\n",
      "Epoch 6/9, Valid Loss: 0.4129, Valid Loss: 0.4556, Train Acc: 0.8559, Valid Acc: 0.8389\n",
      "Epoch 7/9, Valid Loss: 0.4087, Valid Loss: 0.4577, Train Acc: 0.8577, Valid Acc: 0.8377\n",
      "Epoch 8/9, Valid Loss: 0.4066, Valid Loss: 0.4528, Train Acc: 0.8571, Valid Acc: 0.8397\n",
      "Epoch 9/9, Valid Loss: 0.4020, Valid Loss: 0.4500, Train Acc: 0.8600, Valid Acc: 0.8418\n"
     ]
    },
    {
     "name": "stderr",
     "output_type": "stream",
     "text": [
      "2024/09/24 12:49:54 WARNING mlflow.utils.autologging_utils: You are using an unsupported version of pytorch. If you encounter errors during autologging, try upgrading / downgrading pytorch to a supported version, or try upgrading MLflow.\n"
     ]
    },
    {
     "name": "stdout",
     "output_type": "stream",
     "text": [
      "[I 2024-09-24 12:49:54,117] Trial 35 finished with value: 0.8418469429016113 and parameters: {'n_hidden': 2, 'n_hidden_0': 9, 'n_hidden_1': 9}. Best is trial 10 with value: 0.8453525900840759.\n",
      "file:///d:\\docs\\DSL\\Teaching\\CAS_AML\\CAS_AML_M3\\mlflow\n",
      "Epoch 1/9, Valid Loss: 0.5618, Valid Loss: 0.4884, Train Acc: 0.8047, Valid Acc: 0.8281\n",
      "Epoch 2/9, Valid Loss: 0.4553, Valid Loss: 0.4777, Train Acc: 0.8406, Valid Acc: 0.8345\n",
      "Epoch 3/9, Valid Loss: 0.4358, Valid Loss: 0.4588, Train Acc: 0.8482, Valid Acc: 0.8365\n",
      "Epoch 4/9, Valid Loss: 0.4249, Valid Loss: 0.4753, Train Acc: 0.8514, Valid Acc: 0.8333\n",
      "Epoch 5/9, Valid Loss: 0.4171, Valid Loss: 0.4541, Train Acc: 0.8541, Valid Acc: 0.8378\n",
      "Epoch 6/9, Valid Loss: 0.4134, Valid Loss: 0.4486, Train Acc: 0.8561, Valid Acc: 0.8407\n",
      "Epoch 7/9, Valid Loss: 0.4085, Valid Loss: 0.4552, Train Acc: 0.8573, Valid Acc: 0.8359\n",
      "Epoch 8/9, Valid Loss: 0.4060, Valid Loss: 0.4548, Train Acc: 0.8583, Valid Acc: 0.8399\n",
      "Epoch 9/9, Valid Loss: 0.4026, Valid Loss: 0.4583, Train Acc: 0.8585, Valid Acc: 0.8388\n"
     ]
    },
    {
     "name": "stderr",
     "output_type": "stream",
     "text": [
      "2024/09/24 12:53:53 WARNING mlflow.utils.autologging_utils: You are using an unsupported version of pytorch. If you encounter errors during autologging, try upgrading / downgrading pytorch to a supported version, or try upgrading MLflow.\n"
     ]
    },
    {
     "name": "stdout",
     "output_type": "stream",
     "text": [
      "[I 2024-09-24 12:53:53,425] Trial 36 finished with value: 0.840745210647583 and parameters: {'n_hidden': 1, 'n_hidden_0': 5}. Best is trial 10 with value: 0.8453525900840759.\n",
      "file:///d:\\docs\\DSL\\Teaching\\CAS_AML\\CAS_AML_M3\\mlflow\n",
      "Epoch 1/9, Valid Loss: 0.5586, Valid Loss: 0.4991, Train Acc: 0.8061, Valid Acc: 0.8256\n",
      "Epoch 2/9, Valid Loss: 0.4544, Valid Loss: 0.4668, Train Acc: 0.8421, Valid Acc: 0.8355\n",
      "Epoch 3/9, Valid Loss: 0.4346, Valid Loss: 0.4691, Train Acc: 0.8483, Valid Acc: 0.8348\n",
      "Epoch 4/9, Valid Loss: 0.4249, Valid Loss: 0.4686, Train Acc: 0.8513, Valid Acc: 0.8334\n",
      "Epoch 5/9, Valid Loss: 0.4181, Valid Loss: 0.4688, Train Acc: 0.8543, Valid Acc: 0.8322\n",
      "Epoch 6/9, Valid Loss: 0.4122, Valid Loss: 0.4727, Train Acc: 0.8562, Valid Acc: 0.8297\n",
      "Epoch 7/9, Valid Loss: 0.4078, Valid Loss: 0.4472, Train Acc: 0.8571, Valid Acc: 0.8393\n",
      "Epoch 8/9, Valid Loss: 0.4057, Valid Loss: 0.4527, Train Acc: 0.8584, Valid Acc: 0.8395\n",
      "Epoch 9/9, Valid Loss: 0.4028, Valid Loss: 0.4558, Train Acc: 0.8590, Valid Acc: 0.8396\n"
     ]
    },
    {
     "name": "stderr",
     "output_type": "stream",
     "text": [
      "2024/09/24 12:57:55 WARNING mlflow.utils.autologging_utils: You are using an unsupported version of pytorch. If you encounter errors during autologging, try upgrading / downgrading pytorch to a supported version, or try upgrading MLflow.\n"
     ]
    },
    {
     "name": "stdout",
     "output_type": "stream",
     "text": [
      "[I 2024-09-24 12:57:55,327] Trial 37 finished with value: 0.8396434187889099 and parameters: {'n_hidden': 0}. Best is trial 10 with value: 0.8453525900840759.\n",
      "file:///d:\\docs\\DSL\\Teaching\\CAS_AML\\CAS_AML_M3\\mlflow\n",
      "Epoch 1/9, Valid Loss: 0.5575, Valid Loss: 0.5053, Train Acc: 0.8070, Valid Acc: 0.8234\n",
      "Epoch 2/9, Valid Loss: 0.4539, Valid Loss: 0.4643, Train Acc: 0.8414, Valid Acc: 0.8331\n",
      "Epoch 3/9, Valid Loss: 0.4333, Valid Loss: 0.4628, Train Acc: 0.8496, Valid Acc: 0.8363\n",
      "Epoch 4/9, Valid Loss: 0.4250, Valid Loss: 0.4610, Train Acc: 0.8529, Valid Acc: 0.8369\n",
      "Epoch 5/9, Valid Loss: 0.4183, Valid Loss: 0.4554, Train Acc: 0.8545, Valid Acc: 0.8379\n",
      "Epoch 6/9, Valid Loss: 0.4131, Valid Loss: 0.4585, Train Acc: 0.8558, Valid Acc: 0.8358\n",
      "Epoch 7/9, Valid Loss: 0.4076, Valid Loss: 0.4497, Train Acc: 0.8573, Valid Acc: 0.8402\n",
      "Epoch 8/9, Valid Loss: 0.4052, Valid Loss: 0.4528, Train Acc: 0.8578, Valid Acc: 0.8401\n",
      "Epoch 9/9, Valid Loss: 0.4031, Valid Loss: 0.4516, Train Acc: 0.8588, Valid Acc: 0.8387\n"
     ]
    },
    {
     "name": "stderr",
     "output_type": "stream",
     "text": [
      "2024/09/24 13:02:10 WARNING mlflow.utils.autologging_utils: You are using an unsupported version of pytorch. If you encounter errors during autologging, try upgrading / downgrading pytorch to a supported version, or try upgrading MLflow.\n"
     ]
    },
    {
     "name": "stdout",
     "output_type": "stream",
     "text": [
      "[I 2024-09-24 13:02:10,289] Trial 38 finished with value: 0.8402444124221802 and parameters: {'n_hidden': 1, 'n_hidden_0': 8}. Best is trial 10 with value: 0.8453525900840759.\n",
      "file:///d:\\docs\\DSL\\Teaching\\CAS_AML\\CAS_AML_M3\\mlflow\n",
      "Epoch 1/9, Valid Loss: 0.5598, Valid Loss: 0.4943, Train Acc: 0.8059, Valid Acc: 0.8296\n",
      "Epoch 2/9, Valid Loss: 0.4555, Valid Loss: 0.4855, Train Acc: 0.8407, Valid Acc: 0.8296\n",
      "Epoch 3/9, Valid Loss: 0.4362, Valid Loss: 0.4696, Train Acc: 0.8479, Valid Acc: 0.8350\n",
      "Epoch 4/9, Valid Loss: 0.4255, Valid Loss: 0.4647, Train Acc: 0.8518, Valid Acc: 0.8366\n",
      "Epoch 5/9, Valid Loss: 0.4158, Valid Loss: 0.4547, Train Acc: 0.8537, Valid Acc: 0.8401\n",
      "Epoch 6/9, Valid Loss: 0.4138, Valid Loss: 0.4754, Train Acc: 0.8550, Valid Acc: 0.8291\n",
      "Epoch 7/9, Valid Loss: 0.4089, Valid Loss: 0.4927, Train Acc: 0.8569, Valid Acc: 0.8228\n",
      "Epoch 8/9, Valid Loss: 0.4058, Valid Loss: 0.4504, Train Acc: 0.8571, Valid Acc: 0.8388\n",
      "Epoch 9/9, Valid Loss: 0.4019, Valid Loss: 0.4646, Train Acc: 0.8600, Valid Acc: 0.8306\n"
     ]
    },
    {
     "name": "stderr",
     "output_type": "stream",
     "text": [
      "2024/09/24 13:06:02 WARNING mlflow.utils.autologging_utils: You are using an unsupported version of pytorch. If you encounter errors during autologging, try upgrading / downgrading pytorch to a supported version, or try upgrading MLflow.\n"
     ]
    },
    {
     "name": "stdout",
     "output_type": "stream",
     "text": [
      "[I 2024-09-24 13:06:01,974] Trial 39 finished with value: 0.8401442170143127 and parameters: {'n_hidden': 2, 'n_hidden_0': 10, 'n_hidden_1': 8}. Best is trial 10 with value: 0.8453525900840759.\n",
      "file:///d:\\docs\\DSL\\Teaching\\CAS_AML\\CAS_AML_M3\\mlflow\n",
      "Epoch 1/9, Valid Loss: 0.5561, Valid Loss: 0.5044, Train Acc: 0.8069, Valid Acc: 0.8238\n",
      "Epoch 2/9, Valid Loss: 0.4531, Valid Loss: 0.4715, Train Acc: 0.8420, Valid Acc: 0.8334\n",
      "Epoch 3/9, Valid Loss: 0.4354, Valid Loss: 0.4761, Train Acc: 0.8482, Valid Acc: 0.8291\n",
      "Epoch 4/9, Valid Loss: 0.4247, Valid Loss: 0.4604, Train Acc: 0.8527, Valid Acc: 0.8381\n",
      "Epoch 5/9, Valid Loss: 0.4176, Valid Loss: 0.4542, Train Acc: 0.8554, Valid Acc: 0.8416\n",
      "Epoch 6/9, Valid Loss: 0.4131, Valid Loss: 0.4853, Train Acc: 0.8555, Valid Acc: 0.8269\n",
      "Epoch 7/9, Valid Loss: 0.4100, Valid Loss: 0.4500, Train Acc: 0.8564, Valid Acc: 0.8439\n",
      "Epoch 8/9, Valid Loss: 0.4060, Valid Loss: 0.4742, Train Acc: 0.8578, Valid Acc: 0.8341\n",
      "Epoch 9/9, Valid Loss: 0.4023, Valid Loss: 0.4623, Train Acc: 0.8598, Valid Acc: 0.8343\n"
     ]
    },
    {
     "name": "stderr",
     "output_type": "stream",
     "text": [
      "2024/09/24 13:09:58 WARNING mlflow.utils.autologging_utils: You are using an unsupported version of pytorch. If you encounter errors during autologging, try upgrading / downgrading pytorch to a supported version, or try upgrading MLflow.\n"
     ]
    },
    {
     "name": "stdout",
     "output_type": "stream",
     "text": [
      "[I 2024-09-24 13:09:58,891] Trial 40 finished with value: 0.8438501358032227 and parameters: {'n_hidden': 0}. Best is trial 10 with value: 0.8453525900840759.\n",
      "file:///d:\\docs\\DSL\\Teaching\\CAS_AML\\CAS_AML_M3\\mlflow\n",
      "Epoch 1/9, Valid Loss: 0.5582, Valid Loss: 0.4984, Train Acc: 0.8071, Valid Acc: 0.8243\n",
      "Epoch 2/9, Valid Loss: 0.4527, Valid Loss: 0.4860, Train Acc: 0.8424, Valid Acc: 0.8257\n",
      "Epoch 3/9, Valid Loss: 0.4338, Valid Loss: 0.4736, Train Acc: 0.8494, Valid Acc: 0.8330\n",
      "Epoch 4/9, Valid Loss: 0.4239, Valid Loss: 0.4696, Train Acc: 0.8532, Valid Acc: 0.8325\n",
      "Epoch 5/9, Valid Loss: 0.4187, Valid Loss: 0.4683, Train Acc: 0.8528, Valid Acc: 0.8346\n",
      "Epoch 6/9, Valid Loss: 0.4124, Valid Loss: 0.4516, Train Acc: 0.8551, Valid Acc: 0.8416\n",
      "Epoch 7/9, Valid Loss: 0.4073, Valid Loss: 0.4587, Train Acc: 0.8584, Valid Acc: 0.8357\n",
      "Epoch 8/9, Valid Loss: 0.4057, Valid Loss: 0.4574, Train Acc: 0.8587, Valid Acc: 0.8364\n",
      "Epoch 9/9, Valid Loss: 0.4016, Valid Loss: 0.4537, Train Acc: 0.8598, Valid Acc: 0.8440\n"
     ]
    },
    {
     "name": "stderr",
     "output_type": "stream",
     "text": [
      "2024/09/24 13:14:28 WARNING mlflow.utils.autologging_utils: You are using an unsupported version of pytorch. If you encounter errors during autologging, try upgrading / downgrading pytorch to a supported version, or try upgrading MLflow.\n"
     ]
    },
    {
     "name": "stdout",
     "output_type": "stream",
     "text": [
      "[I 2024-09-24 13:14:28,563] Trial 41 finished with value: 0.8439503312110901 and parameters: {'n_hidden': 0}. Best is trial 10 with value: 0.8453525900840759.\n",
      "file:///d:\\docs\\DSL\\Teaching\\CAS_AML\\CAS_AML_M3\\mlflow\n",
      "Epoch 1/9, Valid Loss: 0.5601, Valid Loss: 0.5134, Train Acc: 0.8049, Valid Acc: 0.8130\n",
      "Epoch 2/9, Valid Loss: 0.4533, Valid Loss: 0.4768, Train Acc: 0.8413, Valid Acc: 0.8362\n",
      "Epoch 3/9, Valid Loss: 0.4346, Valid Loss: 0.4584, Train Acc: 0.8482, Valid Acc: 0.8387\n",
      "Epoch 4/9, Valid Loss: 0.4266, Valid Loss: 0.4520, Train Acc: 0.8500, Valid Acc: 0.8390\n",
      "Epoch 5/9, Valid Loss: 0.4182, Valid Loss: 0.4542, Train Acc: 0.8530, Valid Acc: 0.8399\n",
      "Epoch 6/9, Valid Loss: 0.4118, Valid Loss: 0.4674, Train Acc: 0.8560, Valid Acc: 0.8342\n",
      "Epoch 7/9, Valid Loss: 0.4094, Valid Loss: 0.4450, Train Acc: 0.8568, Valid Acc: 0.8410\n",
      "Epoch 8/9, Valid Loss: 0.4049, Valid Loss: 0.4509, Train Acc: 0.8588, Valid Acc: 0.8391\n",
      "Epoch 9/9, Valid Loss: 0.4028, Valid Loss: 0.4478, Train Acc: 0.8595, Valid Acc: 0.8414\n"
     ]
    },
    {
     "name": "stderr",
     "output_type": "stream",
     "text": [
      "2024/09/24 13:18:45 WARNING mlflow.utils.autologging_utils: You are using an unsupported version of pytorch. If you encounter errors during autologging, try upgrading / downgrading pytorch to a supported version, or try upgrading MLflow.\n"
     ]
    },
    {
     "name": "stdout",
     "output_type": "stream",
     "text": [
      "[I 2024-09-24 13:18:45,819] Trial 42 finished with value: 0.8414463400840759 and parameters: {'n_hidden': 0}. Best is trial 10 with value: 0.8453525900840759.\n",
      "file:///d:\\docs\\DSL\\Teaching\\CAS_AML\\CAS_AML_M3\\mlflow\n",
      "Epoch 1/9, Valid Loss: 0.5549, Valid Loss: 0.4953, Train Acc: 0.8077, Valid Acc: 0.8263\n",
      "Epoch 2/9, Valid Loss: 0.4522, Valid Loss: 0.4730, Train Acc: 0.8422, Valid Acc: 0.8300\n",
      "Epoch 3/9, Valid Loss: 0.4334, Valid Loss: 0.4662, Train Acc: 0.8496, Valid Acc: 0.8314\n",
      "Epoch 4/9, Valid Loss: 0.4245, Valid Loss: 0.4751, Train Acc: 0.8519, Valid Acc: 0.8288\n",
      "Epoch 5/9, Valid Loss: 0.4178, Valid Loss: 0.4592, Train Acc: 0.8544, Valid Acc: 0.8348\n",
      "Epoch 6/9, Valid Loss: 0.4125, Valid Loss: 0.4650, Train Acc: 0.8557, Valid Acc: 0.8361\n",
      "Epoch 7/9, Valid Loss: 0.4098, Valid Loss: 0.4549, Train Acc: 0.8566, Valid Acc: 0.8373\n",
      "Epoch 8/9, Valid Loss: 0.4079, Valid Loss: 0.4547, Train Acc: 0.8577, Valid Acc: 0.8395\n",
      "Epoch 9/9, Valid Loss: 0.4022, Valid Loss: 0.4695, Train Acc: 0.8590, Valid Acc: 0.8390\n"
     ]
    },
    {
     "name": "stderr",
     "output_type": "stream",
     "text": [
      "2024/09/24 13:23:06 WARNING mlflow.utils.autologging_utils: You are using an unsupported version of pytorch. If you encounter errors during autologging, try upgrading / downgrading pytorch to a supported version, or try upgrading MLflow.\n"
     ]
    },
    {
     "name": "stdout",
     "output_type": "stream",
     "text": [
      "[I 2024-09-24 13:23:06,156] Trial 43 finished with value: 0.8395432829856873 and parameters: {'n_hidden': 0}. Best is trial 10 with value: 0.8453525900840759.\n",
      "file:///d:\\docs\\DSL\\Teaching\\CAS_AML\\CAS_AML_M3\\mlflow\n",
      "Epoch 1/9, Valid Loss: 0.5592, Valid Loss: 0.5126, Train Acc: 0.8061, Valid Acc: 0.8158\n",
      "Epoch 2/9, Valid Loss: 0.4537, Valid Loss: 0.4758, Train Acc: 0.8426, Valid Acc: 0.8336\n",
      "Epoch 3/9, Valid Loss: 0.4355, Valid Loss: 0.4646, Train Acc: 0.8479, Valid Acc: 0.8346\n",
      "Epoch 4/9, Valid Loss: 0.4252, Valid Loss: 0.4700, Train Acc: 0.8518, Valid Acc: 0.8334\n",
      "Epoch 5/9, Valid Loss: 0.4178, Valid Loss: 0.4651, Train Acc: 0.8551, Valid Acc: 0.8353\n",
      "Epoch 6/9, Valid Loss: 0.4143, Valid Loss: 0.4518, Train Acc: 0.8561, Valid Acc: 0.8383\n",
      "Epoch 7/9, Valid Loss: 0.4080, Valid Loss: 0.4654, Train Acc: 0.8577, Valid Acc: 0.8372\n",
      "Epoch 8/9, Valid Loss: 0.4043, Valid Loss: 0.4579, Train Acc: 0.8584, Valid Acc: 0.8374\n",
      "Epoch 9/9, Valid Loss: 0.4027, Valid Loss: 0.4739, Train Acc: 0.8601, Valid Acc: 0.8312\n"
     ]
    },
    {
     "name": "stderr",
     "output_type": "stream",
     "text": [
      "2024/09/24 13:27:35 WARNING mlflow.utils.autologging_utils: You are using an unsupported version of pytorch. If you encounter errors during autologging, try upgrading / downgrading pytorch to a supported version, or try upgrading MLflow.\n"
     ]
    },
    {
     "name": "stdout",
     "output_type": "stream",
     "text": [
      "[I 2024-09-24 13:27:35,427] Trial 44 finished with value: 0.8383413553237915 and parameters: {'n_hidden': 0}. Best is trial 10 with value: 0.8453525900840759.\n",
      "file:///d:\\docs\\DSL\\Teaching\\CAS_AML\\CAS_AML_M3\\mlflow\n",
      "Epoch 1/9, Valid Loss: 0.5589, Valid Loss: 0.4984, Train Acc: 0.8057, Valid Acc: 0.8245\n",
      "Epoch 2/9, Valid Loss: 0.4523, Valid Loss: 0.4644, Train Acc: 0.8428, Valid Acc: 0.8360\n",
      "Epoch 3/9, Valid Loss: 0.4368, Valid Loss: 0.4610, Train Acc: 0.8475, Valid Acc: 0.8368\n",
      "Epoch 4/9, Valid Loss: 0.4259, Valid Loss: 0.4521, Train Acc: 0.8520, Valid Acc: 0.8396\n",
      "Epoch 5/9, Valid Loss: 0.4188, Valid Loss: 0.4598, Train Acc: 0.8534, Valid Acc: 0.8346\n",
      "Epoch 6/9, Valid Loss: 0.4129, Valid Loss: 0.4639, Train Acc: 0.8550, Valid Acc: 0.8363\n",
      "Epoch 7/9, Valid Loss: 0.4088, Valid Loss: 0.4443, Train Acc: 0.8565, Valid Acc: 0.8420\n",
      "Epoch 8/9, Valid Loss: 0.4055, Valid Loss: 0.4578, Train Acc: 0.8574, Valid Acc: 0.8389\n",
      "Epoch 9/9, Valid Loss: 0.4020, Valid Loss: 0.4588, Train Acc: 0.8588, Valid Acc: 0.8354\n"
     ]
    },
    {
     "name": "stderr",
     "output_type": "stream",
     "text": [
      "2024/09/24 13:32:12 WARNING mlflow.utils.autologging_utils: You are using an unsupported version of pytorch. If you encounter errors during autologging, try upgrading / downgrading pytorch to a supported version, or try upgrading MLflow.\n"
     ]
    },
    {
     "name": "stdout",
     "output_type": "stream",
     "text": [
      "[I 2024-09-24 13:32:12,055] Trial 45 finished with value: 0.8420472741127014 and parameters: {'n_hidden': 0}. Best is trial 10 with value: 0.8453525900840759.\n",
      "file:///d:\\docs\\DSL\\Teaching\\CAS_AML\\CAS_AML_M3\\mlflow\n",
      "Epoch 1/9, Valid Loss: 0.5594, Valid Loss: 0.5282, Train Acc: 0.8069, Valid Acc: 0.8048\n",
      "Epoch 2/9, Valid Loss: 0.4566, Valid Loss: 0.4804, Train Acc: 0.8407, Valid Acc: 0.8338\n",
      "Epoch 3/9, Valid Loss: 0.4342, Valid Loss: 0.4657, Train Acc: 0.8481, Valid Acc: 0.8383\n",
      "Epoch 4/9, Valid Loss: 0.4259, Valid Loss: 0.4603, Train Acc: 0.8526, Valid Acc: 0.8363\n",
      "Epoch 5/9, Valid Loss: 0.4175, Valid Loss: 0.4755, Train Acc: 0.8543, Valid Acc: 0.8349\n",
      "Epoch 6/9, Valid Loss: 0.4142, Valid Loss: 0.4565, Train Acc: 0.8555, Valid Acc: 0.8403\n",
      "Epoch 7/9, Valid Loss: 0.4085, Valid Loss: 0.4721, Train Acc: 0.8566, Valid Acc: 0.8322\n",
      "Epoch 8/9, Valid Loss: 0.4054, Valid Loss: 0.4605, Train Acc: 0.8582, Valid Acc: 0.8415\n",
      "Epoch 9/9, Valid Loss: 0.4019, Valid Loss: 0.4660, Train Acc: 0.8589, Valid Acc: 0.8365\n"
     ]
    },
    {
     "name": "stderr",
     "output_type": "stream",
     "text": [
      "2024/09/24 13:36:46 WARNING mlflow.utils.autologging_utils: You are using an unsupported version of pytorch. If you encounter errors during autologging, try upgrading / downgrading pytorch to a supported version, or try upgrading MLflow.\n"
     ]
    },
    {
     "name": "stdout",
     "output_type": "stream",
     "text": [
      "[I 2024-09-24 13:36:46,647] Trial 46 finished with value: 0.8415464758872986 and parameters: {'n_hidden': 0}. Best is trial 10 with value: 0.8453525900840759.\n",
      "file:///d:\\docs\\DSL\\Teaching\\CAS_AML\\CAS_AML_M3\\mlflow\n",
      "Epoch 1/9, Valid Loss: 0.5594, Valid Loss: 0.4897, Train Acc: 0.8058, Valid Acc: 0.8278\n",
      "Epoch 2/9, Valid Loss: 0.4555, Valid Loss: 0.4820, Train Acc: 0.8416, Valid Acc: 0.8252\n",
      "Epoch 3/9, Valid Loss: 0.4356, Valid Loss: 0.4718, Train Acc: 0.8473, Valid Acc: 0.8381\n",
      "Epoch 4/9, Valid Loss: 0.4254, Valid Loss: 0.4658, Train Acc: 0.8512, Valid Acc: 0.8344\n",
      "Epoch 5/9, Valid Loss: 0.4191, Valid Loss: 0.4543, Train Acc: 0.8534, Valid Acc: 0.8401\n",
      "Epoch 6/9, Valid Loss: 0.4134, Valid Loss: 0.4698, Train Acc: 0.8545, Valid Acc: 0.8277\n",
      "Epoch 7/9, Valid Loss: 0.4100, Valid Loss: 0.4474, Train Acc: 0.8567, Valid Acc: 0.8415\n",
      "Epoch 8/9, Valid Loss: 0.4057, Valid Loss: 0.4569, Train Acc: 0.8571, Valid Acc: 0.8385\n",
      "Epoch 9/9, Valid Loss: 0.4037, Valid Loss: 0.4604, Train Acc: 0.8581, Valid Acc: 0.8332\n"
     ]
    },
    {
     "name": "stderr",
     "output_type": "stream",
     "text": [
      "2024/09/24 13:41:27 WARNING mlflow.utils.autologging_utils: You are using an unsupported version of pytorch. If you encounter errors during autologging, try upgrading / downgrading pytorch to a supported version, or try upgrading MLflow.\n"
     ]
    },
    {
     "name": "stdout",
     "output_type": "stream",
     "text": [
      "[I 2024-09-24 13:41:27,843] Trial 47 finished with value: 0.8415464758872986 and parameters: {'n_hidden': 0}. Best is trial 10 with value: 0.8453525900840759.\n",
      "file:///d:\\docs\\DSL\\Teaching\\CAS_AML\\CAS_AML_M3\\mlflow\n",
      "Epoch 1/9, Valid Loss: 0.5570, Valid Loss: 0.4990, Train Acc: 0.8067, Valid Acc: 0.8271\n",
      "Epoch 2/9, Valid Loss: 0.4526, Valid Loss: 0.4843, Train Acc: 0.8417, Valid Acc: 0.8250\n",
      "Epoch 3/9, Valid Loss: 0.4356, Valid Loss: 0.4813, Train Acc: 0.8477, Valid Acc: 0.8267\n",
      "Epoch 4/9, Valid Loss: 0.4271, Valid Loss: 0.4589, Train Acc: 0.8514, Valid Acc: 0.8376\n",
      "Epoch 5/9, Valid Loss: 0.4179, Valid Loss: 0.4662, Train Acc: 0.8537, Valid Acc: 0.8359\n",
      "Epoch 6/9, Valid Loss: 0.4129, Valid Loss: 0.4573, Train Acc: 0.8561, Valid Acc: 0.8352\n",
      "Epoch 7/9, Valid Loss: 0.4083, Valid Loss: 0.4489, Train Acc: 0.8571, Valid Acc: 0.8403\n",
      "Epoch 8/9, Valid Loss: 0.4048, Valid Loss: 0.4580, Train Acc: 0.8589, Valid Acc: 0.8355\n",
      "Epoch 9/9, Valid Loss: 0.4032, Valid Loss: 0.4501, Train Acc: 0.8592, Valid Acc: 0.8377\n"
     ]
    },
    {
     "name": "stderr",
     "output_type": "stream",
     "text": [
      "2024/09/24 13:46:15 WARNING mlflow.utils.autologging_utils: You are using an unsupported version of pytorch. If you encounter errors during autologging, try upgrading / downgrading pytorch to a supported version, or try upgrading MLflow.\n"
     ]
    },
    {
     "name": "stdout",
     "output_type": "stream",
     "text": [
      "[I 2024-09-24 13:46:15,044] Trial 48 finished with value: 0.8403445482254028 and parameters: {'n_hidden': 0}. Best is trial 10 with value: 0.8453525900840759.\n",
      "file:///d:\\docs\\DSL\\Teaching\\CAS_AML\\CAS_AML_M3\\mlflow\n",
      "Epoch 1/9, Valid Loss: 0.5603, Valid Loss: 0.4926, Train Acc: 0.8062, Valid Acc: 0.8276\n",
      "Epoch 2/9, Valid Loss: 0.4538, Valid Loss: 0.4720, Train Acc: 0.8417, Valid Acc: 0.8303\n",
      "Epoch 3/9, Valid Loss: 0.4335, Valid Loss: 0.4661, Train Acc: 0.8483, Valid Acc: 0.8329\n",
      "Epoch 4/9, Valid Loss: 0.4237, Valid Loss: 0.4643, Train Acc: 0.8524, Valid Acc: 0.8332\n",
      "Epoch 5/9, Valid Loss: 0.4178, Valid Loss: 0.4619, Train Acc: 0.8554, Valid Acc: 0.8402\n",
      "Epoch 6/9, Valid Loss: 0.4137, Valid Loss: 0.4509, Train Acc: 0.8544, Valid Acc: 0.8404\n",
      "Epoch 7/9, Valid Loss: 0.4089, Valid Loss: 0.4549, Train Acc: 0.8575, Valid Acc: 0.8410\n",
      "Epoch 8/9, Valid Loss: 0.4064, Valid Loss: 0.4570, Train Acc: 0.8571, Valid Acc: 0.8386\n",
      "Epoch 9/9, Valid Loss: 0.4006, Valid Loss: 0.4743, Train Acc: 0.8598, Valid Acc: 0.8386\n"
     ]
    },
    {
     "name": "stderr",
     "output_type": "stream",
     "text": [
      "2024/09/24 13:50:47 WARNING mlflow.utils.autologging_utils: You are using an unsupported version of pytorch. If you encounter errors during autologging, try upgrading / downgrading pytorch to a supported version, or try upgrading MLflow.\n"
     ]
    },
    {
     "name": "stdout",
     "output_type": "stream",
     "text": [
      "[I 2024-09-24 13:50:47,762] Trial 49 finished with value: 0.8410456776618958 and parameters: {'n_hidden': 0}. Best is trial 10 with value: 0.8453525900840759.\n",
      "file:///d:\\docs\\DSL\\Teaching\\CAS_AML\\CAS_AML_M3\\mlflow\n",
      "Epoch 1/9, Valid Loss: 0.5580, Valid Loss: 0.5057, Train Acc: 0.8064, Valid Acc: 0.8185\n",
      "Epoch 2/9, Valid Loss: 0.4529, Valid Loss: 0.4770, Train Acc: 0.8421, Valid Acc: 0.8252\n",
      "Epoch 3/9, Valid Loss: 0.4351, Valid Loss: 0.4787, Train Acc: 0.8473, Valid Acc: 0.8328\n",
      "Epoch 4/9, Valid Loss: 0.4263, Valid Loss: 0.4683, Train Acc: 0.8512, Valid Acc: 0.8333\n",
      "Epoch 5/9, Valid Loss: 0.4192, Valid Loss: 0.4561, Train Acc: 0.8539, Valid Acc: 0.8350\n",
      "Epoch 6/9, Valid Loss: 0.4113, Valid Loss: 0.4591, Train Acc: 0.8556, Valid Acc: 0.8394\n",
      "Epoch 7/9, Valid Loss: 0.4089, Valid Loss: 0.4577, Train Acc: 0.8568, Valid Acc: 0.8335\n",
      "Epoch 8/9, Valid Loss: 0.4051, Valid Loss: 0.4511, Train Acc: 0.8588, Valid Acc: 0.8399\n",
      "Epoch 9/9, Valid Loss: 0.4022, Valid Loss: 0.4533, Train Acc: 0.8589, Valid Acc: 0.8368\n"
     ]
    },
    {
     "name": "stderr",
     "output_type": "stream",
     "text": [
      "2024/09/24 13:54:53 WARNING mlflow.utils.autologging_utils: You are using an unsupported version of pytorch. If you encounter errors during autologging, try upgrading / downgrading pytorch to a supported version, or try upgrading MLflow.\n"
     ]
    },
    {
     "name": "stdout",
     "output_type": "stream",
     "text": [
      "[I 2024-09-24 13:54:53,455] Trial 50 finished with value: 0.8399438858032227 and parameters: {'n_hidden': 0}. Best is trial 10 with value: 0.8453525900840759.\n",
      "file:///d:\\docs\\DSL\\Teaching\\CAS_AML\\CAS_AML_M3\\mlflow\n",
      "Epoch 1/9, Valid Loss: 0.5554, Valid Loss: 0.5151, Train Acc: 0.8086, Valid Acc: 0.8119\n",
      "Epoch 2/9, Valid Loss: 0.4530, Valid Loss: 0.4706, Train Acc: 0.8423, Valid Acc: 0.8308\n",
      "Epoch 3/9, Valid Loss: 0.4359, Valid Loss: 0.4703, Train Acc: 0.8480, Valid Acc: 0.8306\n",
      "Epoch 4/9, Valid Loss: 0.4245, Valid Loss: 0.4561, Train Acc: 0.8513, Valid Acc: 0.8366\n",
      "Epoch 5/9, Valid Loss: 0.4183, Valid Loss: 0.4572, Train Acc: 0.8535, Valid Acc: 0.8356\n",
      "Epoch 6/9, Valid Loss: 0.4132, Valid Loss: 0.4523, Train Acc: 0.8566, Valid Acc: 0.8369\n",
      "Epoch 7/9, Valid Loss: 0.4105, Valid Loss: 0.4614, Train Acc: 0.8566, Valid Acc: 0.8383\n",
      "Epoch 8/9, Valid Loss: 0.4052, Valid Loss: 0.4507, Train Acc: 0.8590, Valid Acc: 0.8387\n",
      "Epoch 9/9, Valid Loss: 0.4030, Valid Loss: 0.4481, Train Acc: 0.8594, Valid Acc: 0.8424\n"
     ]
    },
    {
     "name": "stderr",
     "output_type": "stream",
     "text": [
      "2024/09/24 13:59:06 WARNING mlflow.utils.autologging_utils: You are using an unsupported version of pytorch. If you encounter errors during autologging, try upgrading / downgrading pytorch to a supported version, or try upgrading MLflow.\n"
     ]
    },
    {
     "name": "stdout",
     "output_type": "stream",
     "text": [
      "[I 2024-09-24 13:59:06,390] Trial 51 finished with value: 0.8424479365348816 and parameters: {'n_hidden': 1, 'n_hidden_0': 7}. Best is trial 10 with value: 0.8453525900840759.\n",
      "file:///d:\\docs\\DSL\\Teaching\\CAS_AML\\CAS_AML_M3\\mlflow\n",
      "Epoch 1/9, Valid Loss: 0.5582, Valid Loss: 0.4933, Train Acc: 0.8064, Valid Acc: 0.8273\n",
      "Epoch 2/9, Valid Loss: 0.4542, Valid Loss: 0.4751, Train Acc: 0.8415, Valid Acc: 0.8334\n",
      "Epoch 3/9, Valid Loss: 0.4349, Valid Loss: 0.4605, Train Acc: 0.8485, Valid Acc: 0.8386\n",
      "Epoch 4/9, Valid Loss: 0.4247, Valid Loss: 0.4680, Train Acc: 0.8526, Valid Acc: 0.8379\n",
      "Epoch 5/9, Valid Loss: 0.4202, Valid Loss: 0.4733, Train Acc: 0.8526, Valid Acc: 0.8311\n",
      "Epoch 6/9, Valid Loss: 0.4143, Valid Loss: 0.4609, Train Acc: 0.8565, Valid Acc: 0.8345\n",
      "Epoch 7/9, Valid Loss: 0.4081, Valid Loss: 0.4665, Train Acc: 0.8570, Valid Acc: 0.8331\n",
      "Epoch 8/9, Valid Loss: 0.4058, Valid Loss: 0.4685, Train Acc: 0.8572, Valid Acc: 0.8310\n",
      "Epoch 9/9, Valid Loss: 0.4031, Valid Loss: 0.4568, Train Acc: 0.8589, Valid Acc: 0.8387\n"
     ]
    },
    {
     "name": "stderr",
     "output_type": "stream",
     "text": [
      "2024/09/24 14:03:13 WARNING mlflow.utils.autologging_utils: You are using an unsupported version of pytorch. If you encounter errors during autologging, try upgrading / downgrading pytorch to a supported version, or try upgrading MLflow.\n"
     ]
    },
    {
     "name": "stdout",
     "output_type": "stream",
     "text": [
      "[I 2024-09-24 14:03:13,888] Trial 52 finished with value: 0.8387419581413269 and parameters: {'n_hidden': 3, 'n_hidden_0': 5, 'n_hidden_1': 10, 'n_hidden_2': 4}. Best is trial 10 with value: 0.8453525900840759.\n",
      "file:///d:\\docs\\DSL\\Teaching\\CAS_AML\\CAS_AML_M3\\mlflow\n",
      "Epoch 1/9, Valid Loss: 0.5575, Valid Loss: 0.5019, Train Acc: 0.8080, Valid Acc: 0.8198\n",
      "Epoch 2/9, Valid Loss: 0.4535, Valid Loss: 0.4868, Train Acc: 0.8416, Valid Acc: 0.8249\n",
      "Epoch 3/9, Valid Loss: 0.4355, Valid Loss: 0.4751, Train Acc: 0.8484, Valid Acc: 0.8311\n",
      "Epoch 4/9, Valid Loss: 0.4249, Valid Loss: 0.4645, Train Acc: 0.8519, Valid Acc: 0.8335\n",
      "Epoch 5/9, Valid Loss: 0.4190, Valid Loss: 0.4811, Train Acc: 0.8539, Valid Acc: 0.8334\n",
      "Epoch 6/9, Valid Loss: 0.4120, Valid Loss: 0.4631, Train Acc: 0.8566, Valid Acc: 0.8371\n",
      "Epoch 7/9, Valid Loss: 0.4075, Valid Loss: 0.4610, Train Acc: 0.8576, Valid Acc: 0.8349\n",
      "Epoch 8/9, Valid Loss: 0.4040, Valid Loss: 0.4515, Train Acc: 0.8586, Valid Acc: 0.8410\n",
      "Epoch 9/9, Valid Loss: 0.4037, Valid Loss: 0.4725, Train Acc: 0.8591, Valid Acc: 0.8372\n"
     ]
    },
    {
     "name": "stderr",
     "output_type": "stream",
     "text": [
      "2024/09/24 14:07:14 WARNING mlflow.utils.autologging_utils: You are using an unsupported version of pytorch. If you encounter errors during autologging, try upgrading / downgrading pytorch to a supported version, or try upgrading MLflow.\n"
     ]
    },
    {
     "name": "stdout",
     "output_type": "stream",
     "text": [
      "[I 2024-09-24 14:07:14,714] Trial 53 finished with value: 0.8410456776618958 and parameters: {'n_hidden': 0}. Best is trial 10 with value: 0.8453525900840759.\n",
      "file:///d:\\docs\\DSL\\Teaching\\CAS_AML\\CAS_AML_M3\\mlflow\n",
      "Epoch 1/9, Valid Loss: 0.5567, Valid Loss: 0.5025, Train Acc: 0.8061, Valid Acc: 0.8214\n",
      "Epoch 2/9, Valid Loss: 0.4540, Valid Loss: 0.4723, Train Acc: 0.8408, Valid Acc: 0.8315\n",
      "Epoch 3/9, Valid Loss: 0.4353, Valid Loss: 0.4689, Train Acc: 0.8476, Valid Acc: 0.8343\n",
      "Epoch 4/9, Valid Loss: 0.4255, Valid Loss: 0.4662, Train Acc: 0.8515, Valid Acc: 0.8352\n",
      "Epoch 5/9, Valid Loss: 0.4180, Valid Loss: 0.4645, Train Acc: 0.8536, Valid Acc: 0.8332\n",
      "Epoch 6/9, Valid Loss: 0.4126, Valid Loss: 0.4594, Train Acc: 0.8556, Valid Acc: 0.8392\n",
      "Epoch 7/9, Valid Loss: 0.4090, Valid Loss: 0.4487, Train Acc: 0.8564, Valid Acc: 0.8405\n",
      "Epoch 8/9, Valid Loss: 0.4044, Valid Loss: 0.4552, Train Acc: 0.8587, Valid Acc: 0.8375\n",
      "Epoch 9/9, Valid Loss: 0.4020, Valid Loss: 0.4587, Train Acc: 0.8579, Valid Acc: 0.8405\n"
     ]
    },
    {
     "name": "stderr",
     "output_type": "stream",
     "text": [
      "2024/09/24 14:11:10 WARNING mlflow.utils.autologging_utils: You are using an unsupported version of pytorch. If you encounter errors during autologging, try upgrading / downgrading pytorch to a supported version, or try upgrading MLflow.\n"
     ]
    },
    {
     "name": "stdout",
     "output_type": "stream",
     "text": [
      "[I 2024-09-24 14:11:10,799] Trial 54 finished with value: 0.8405448794364929 and parameters: {'n_hidden': 0}. Best is trial 10 with value: 0.8453525900840759.\n",
      "file:///d:\\docs\\DSL\\Teaching\\CAS_AML\\CAS_AML_M3\\mlflow\n",
      "Epoch 1/9, Valid Loss: 0.5615, Valid Loss: 0.4985, Train Acc: 0.8040, Valid Acc: 0.8256\n",
      "Epoch 2/9, Valid Loss: 0.4542, Valid Loss: 0.4738, Train Acc: 0.8416, Valid Acc: 0.8342\n",
      "Epoch 3/9, Valid Loss: 0.4359, Valid Loss: 0.4661, Train Acc: 0.8481, Valid Acc: 0.8354\n",
      "Epoch 4/9, Valid Loss: 0.4255, Valid Loss: 0.4879, Train Acc: 0.8515, Valid Acc: 0.8239\n",
      "Epoch 5/9, Valid Loss: 0.4183, Valid Loss: 0.4487, Train Acc: 0.8542, Valid Acc: 0.8415\n",
      "Epoch 6/9, Valid Loss: 0.4140, Valid Loss: 0.4649, Train Acc: 0.8549, Valid Acc: 0.8359\n",
      "Epoch 7/9, Valid Loss: 0.4086, Valid Loss: 0.4576, Train Acc: 0.8576, Valid Acc: 0.8361\n",
      "Epoch 8/9, Valid Loss: 0.4051, Valid Loss: 0.4485, Train Acc: 0.8584, Valid Acc: 0.8419\n",
      "Epoch 9/9, Valid Loss: 0.4023, Valid Loss: 0.4580, Train Acc: 0.8600, Valid Acc: 0.8384\n"
     ]
    },
    {
     "name": "stderr",
     "output_type": "stream",
     "text": [
      "2024/09/24 14:15:11 WARNING mlflow.utils.autologging_utils: You are using an unsupported version of pytorch. If you encounter errors during autologging, try upgrading / downgrading pytorch to a supported version, or try upgrading MLflow.\n"
     ]
    },
    {
     "name": "stdout",
     "output_type": "stream",
     "text": [
      "[I 2024-09-24 14:15:11,759] Trial 55 finished with value: 0.8419471383094788 and parameters: {'n_hidden': 1, 'n_hidden_0': 9}. Best is trial 10 with value: 0.8453525900840759.\n",
      "file:///d:\\docs\\DSL\\Teaching\\CAS_AML\\CAS_AML_M3\\mlflow\n",
      "Epoch 1/9, Valid Loss: 0.5544, Valid Loss: 0.4996, Train Acc: 0.8069, Valid Acc: 0.8267\n",
      "Epoch 2/9, Valid Loss: 0.4536, Valid Loss: 0.4755, Train Acc: 0.8421, Valid Acc: 0.8322\n",
      "Epoch 3/9, Valid Loss: 0.4336, Valid Loss: 0.4668, Train Acc: 0.8491, Valid Acc: 0.8342\n",
      "Epoch 4/9, Valid Loss: 0.4233, Valid Loss: 0.4603, Train Acc: 0.8524, Valid Acc: 0.8359\n",
      "Epoch 5/9, Valid Loss: 0.4169, Valid Loss: 0.4655, Train Acc: 0.8531, Valid Acc: 0.8393\n",
      "Epoch 6/9, Valid Loss: 0.4137, Valid Loss: 0.4663, Train Acc: 0.8550, Valid Acc: 0.8342\n",
      "Epoch 7/9, Valid Loss: 0.4076, Valid Loss: 0.4854, Train Acc: 0.8573, Valid Acc: 0.8216\n",
      "Epoch 8/9, Valid Loss: 0.4045, Valid Loss: 0.4586, Train Acc: 0.8584, Valid Acc: 0.8390\n",
      "Epoch 9/9, Valid Loss: 0.4028, Valid Loss: 0.4458, Train Acc: 0.8589, Valid Acc: 0.8433\n"
     ]
    },
    {
     "name": "stderr",
     "output_type": "stream",
     "text": [
      "2024/09/24 14:18:58 WARNING mlflow.utils.autologging_utils: You are using an unsupported version of pytorch. If you encounter errors during autologging, try upgrading / downgrading pytorch to a supported version, or try upgrading MLflow.\n"
     ]
    },
    {
     "name": "stdout",
     "output_type": "stream",
     "text": [
      "[I 2024-09-24 14:18:58,261] Trial 56 finished with value: 0.8433493375778198 and parameters: {'n_hidden': 0}. Best is trial 10 with value: 0.8453525900840759.\n",
      "file:///d:\\docs\\DSL\\Teaching\\CAS_AML\\CAS_AML_M3\\mlflow\n",
      "Epoch 1/9, Valid Loss: 0.5565, Valid Loss: 0.4861, Train Acc: 0.8068, Valid Acc: 0.8284\n",
      "Epoch 2/9, Valid Loss: 0.4536, Valid Loss: 0.4784, Train Acc: 0.8429, Valid Acc: 0.8283\n",
      "Epoch 3/9, Valid Loss: 0.4362, Valid Loss: 0.4625, Train Acc: 0.8488, Valid Acc: 0.8350\n",
      "Epoch 4/9, Valid Loss: 0.4260, Valid Loss: 0.4587, Train Acc: 0.8512, Valid Acc: 0.8380\n",
      "Epoch 5/9, Valid Loss: 0.4167, Valid Loss: 0.4599, Train Acc: 0.8534, Valid Acc: 0.8374\n",
      "Epoch 6/9, Valid Loss: 0.4101, Valid Loss: 0.4557, Train Acc: 0.8578, Valid Acc: 0.8360\n",
      "Epoch 7/9, Valid Loss: 0.4080, Valid Loss: 0.4503, Train Acc: 0.8579, Valid Acc: 0.8409\n",
      "Epoch 8/9, Valid Loss: 0.4050, Valid Loss: 0.4585, Train Acc: 0.8591, Valid Acc: 0.8381\n",
      "Epoch 9/9, Valid Loss: 0.4037, Valid Loss: 0.4552, Train Acc: 0.8583, Valid Acc: 0.8417\n",
      "[I 2024-09-24 14:22:46,390] Trial 57 finished with value: 0.8417468070983887 and parameters: {'n_hidden': 0}. Best is trial 10 with value: 0.8453525900840759.\n"
     ]
    }
   ],
   "source": [
    "path_optuna_db_dir = root_path / \"optuna_db\"\n",
    "path_optuna_db_dir.mkdir(exist_ok=True)\n",
    "path_optuna_db = path_optuna_db_dir / \"db.sqlite3\"\n",
    "path_optuna_db = \"sqlite:///\" + str(path_optuna_db)\n",
    "\n",
    "study = optuna.create_study(storage=path_optuna_db,\n",
    "                            direction=\"maximize\",\n",
    "                            study_name=\"architecture_opt\")\n",
    "\n",
    "study.optimize(objective, n_trials=120, timeout=3600*4, show_progress_bar=True)"
   ]
  },
  {
   "cell_type": "code",
   "execution_count": 26,
   "metadata": {},
   "outputs": [
    {
     "data": {
      "text/plain": [
       "{'n_hidden': 0}"
      ]
     },
     "execution_count": 26,
     "metadata": {},
     "output_type": "execute_result"
    }
   ],
   "source": [
    "study.best_params"
   ]
  },
  {
   "cell_type": "code",
   "execution_count": 18,
   "metadata": {},
   "outputs": [
    {
     "name": "stdout",
     "output_type": "stream",
     "text": [
      "optuna-dashboard sqlite:///d:\\docs\\DSL\\Teaching\\CAS_AML\\CAS_AML_M3\\optuna_db\\db.sqlite3\n"
     ]
    }
   ],
   "source": [
    "# if run locally - paste the output of the print to the terminal:\n",
    "print(f'optuna-dashboard {path_optuna_db}')\n",
    "\n",
    "# otherwise copy file locally and adjust the path accordingly"
   ]
  },
  {
   "cell_type": "markdown",
   "metadata": {},
   "source": [
    "## Exercise"
   ]
  },
  {
   "cell_type": "markdown",
   "metadata": {},
   "source": [
    "Change the code to find best numer of neurons in 2 layer nn"
   ]
  }
 ],
 "metadata": {
  "kernelspec": {
   "display_name": "Python 3",
   "language": "python",
   "name": "python3"
  },
  "language_info": {
   "codemirror_mode": {
    "name": "ipython",
    "version": 3
   },
   "file_extension": ".py",
   "mimetype": "text/x-python",
   "name": "python",
   "nbconvert_exporter": "python",
   "pygments_lexer": "ipython3",
   "version": "3.10.14"
  }
 },
 "nbformat": 4,
 "nbformat_minor": 2
}
